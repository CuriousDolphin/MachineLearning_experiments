{
  "nbformat": 4,
  "nbformat_minor": 0,
  "metadata": {
    "colab": {
      "name": "Assignment2_s263138.ipynb",
      "provenance": [],
      "collapsed_sections": [],
      "toc_visible": true
    },
    "kernelspec": {
      "name": "python3",
      "display_name": "Python 3"
    },
    "accelerator": "GPU"
  },
  "cells": [
    {
      "cell_type": "markdown",
      "metadata": {
        "id": "UG4_rnmOo2a3",
        "colab_type": "text"
      },
      "source": [
        "### **Ivan Murabito-s263138**\n",
        "# Homework 2 DeepLearning and experiments on AlexNet\n",
        "\n",
        "\n"
      ]
    },
    {
      "cell_type": "markdown",
      "metadata": {
        "id": "ll-rvICL4UtS",
        "colab_type": "text"
      },
      "source": [
        "# Training from scratch"
      ]
    },
    {
      "cell_type": "markdown",
      "metadata": {
        "id": "c9QcGnGPdX2C",
        "colab_type": "text"
      },
      "source": [
        "\n",
        "**Install requirements**"
      ]
    },
    {
      "cell_type": "code",
      "metadata": {
        "id": "i0ojXHuuePqw",
        "colab_type": "code",
        "outputId": "66c77d19-4c48-4092-c02c-266831e24552",
        "colab": {
          "base_uri": "https://localhost:8080/",
          "height": 54
        }
      },
      "source": [
        "from google.colab import drive\n",
        "drive.mount('/content/drive')"
      ],
      "execution_count": 0,
      "outputs": [
        {
          "output_type": "stream",
          "text": [
            "Drive already mounted at /content/drive; to attempt to forcibly remount, call drive.mount(\"/content/drive\", force_remount=True).\n"
          ],
          "name": "stdout"
        }
      ]
    },
    {
      "cell_type": "code",
      "metadata": {
        "id": "k9O3aM3Tb28q",
        "colab_type": "code",
        "outputId": "c93f3b0b-982d-4068-d1c5-1eef1eb3b558",
        "colab": {
          "base_uri": "https://localhost:8080/",
          "height": 207
        }
      },
      "source": [
        "!pip3 install 'torch==1.3.1'\n",
        "!pip3 install 'torchvision==0.4.2'\n",
        "!pip3 install 'Pillow-SIMD'\n",
        "!pip3 install 'tqdm'\n",
        "!pip3 install --upgrade 'pillow'"
      ],
      "execution_count": 0,
      "outputs": [
        {
          "output_type": "stream",
          "text": [
            "Requirement already satisfied: torch==1.3.1 in /usr/local/lib/python3.6/dist-packages (1.3.1)\n",
            "Requirement already satisfied: numpy in /usr/local/lib/python3.6/dist-packages (from torch==1.3.1) (1.17.4)\n",
            "Requirement already satisfied: torchvision==0.4.2 in /usr/local/lib/python3.6/dist-packages (0.4.2)\n",
            "Requirement already satisfied: numpy in /usr/local/lib/python3.6/dist-packages (from torchvision==0.4.2) (1.17.4)\n",
            "Requirement already satisfied: pillow>=4.1.1 in /usr/local/lib/python3.6/dist-packages (from torchvision==0.4.2) (6.2.1)\n",
            "Requirement already satisfied: torch==1.3.1 in /usr/local/lib/python3.6/dist-packages (from torchvision==0.4.2) (1.3.1)\n",
            "Requirement already satisfied: six in /usr/local/lib/python3.6/dist-packages (from torchvision==0.4.2) (1.12.0)\n",
            "Requirement already satisfied: Pillow-SIMD in /usr/local/lib/python3.6/dist-packages (6.0.0.post0)\n",
            "Requirement already satisfied: tqdm in /usr/local/lib/python3.6/dist-packages (4.28.1)\n",
            "Requirement already up-to-date: pillow in /usr/local/lib/python3.6/dist-packages (6.2.1)\n"
          ],
          "name": "stdout"
        }
      ]
    },
    {
      "cell_type": "markdown",
      "metadata": {
        "id": "fo942LMOdlh4",
        "colab_type": "text"
      },
      "source": [
        "**Import libraries**"
      ]
    },
    {
      "cell_type": "markdown",
      "metadata": {
        "id": "A889ty8xcE43",
        "colab_type": "text"
      },
      "source": [
        "In this section i've installed and imported all stuffs needed for this homework (numpy,matplot,pil,torchvision etc etc)"
      ]
    },
    {
      "cell_type": "code",
      "metadata": {
        "id": "DokFOdD1dJEl",
        "colab_type": "code",
        "colab": {}
      },
      "source": [
        "import os\n",
        "import logging\n",
        "\n",
        "import torch\n",
        "import torch.nn as nn\n",
        "import torch.optim as optim\n",
        "from torch.utils.data import Subset, DataLoader\n",
        "from torch.backends import cudnn\n",
        "\n",
        "import torchvision\n",
        "from torchvision import transforms\n",
        "from torchvision.models import alexnet\n",
        "\n",
        "from PIL import Image\n",
        "from tqdm import tqdm\n",
        "\n",
        "import pandas as pd \n",
        "import numpy as np\n",
        "from matplotlib.pyplot import imshow\n",
        "import matplotlib.pyplot as plt\n",
        "\n",
        "from copy import deepcopy\n"
      ],
      "execution_count": 0,
      "outputs": []
    },
    {
      "cell_type": "markdown",
      "metadata": {
        "id": "OIDLJuIXK_vh",
        "colab_type": "text"
      },
      "source": [
        "**Set Arguments**"
      ]
    },
    {
      "cell_type": "markdown",
      "metadata": {
        "id": "QmEd1BWycUEH",
        "colab_type": "text"
      },
      "source": [
        "Block of given arguments (LR,STEP_SIZE,EPOCHS etc)"
      ]
    },
    {
      "cell_type": "code",
      "metadata": {
        "id": "d5PkYfqfK_SA",
        "colab_type": "code",
        "colab": {}
      },
      "source": [
        "DEVICE = 'cuda' # 'cuda' or 'cpu'\n",
        "\n",
        "NUM_CLASSES = 101 # 101 + 1: There is am extra Background class that should be removed \n",
        "\n",
        "BATCH_SIZE = 256     # Higher batch sizes allows for larger learning rates. An empirical heuristic suggests that, when changing\n",
        "                     # the batch size, learning rate should change by the same factor to have comparable results\n",
        "LR_TEST = 0.05\n",
        "LR_TEST_2=0.001\n",
        "LR = 0.001           # The initial Learning Rate\n",
        "MOMENTUM = 0.9       # Hyperparameter for SGD, keep this at 0.9 when using SGD\n",
        "WEIGHT_DECAY = 5e-5  # Regularization, you can keep this at the default\n",
        "\n",
        "NUM_EPOCHS_TEST = 70\n",
        "NUM_EPOCHS = 30      # Total number of training epochs (iterations over dataset)\n",
        "STEP_SIZE_TEST = 35  # How many epochs before decreasing learning rate (if using a step-down policy)\n",
        "STEP_SIZE = 20\n",
        "GAMMA = 0.1          # Multiplicative factor for learning rate step-down\n",
        "\n",
        "LOG_FREQUENCY = 1"
      ],
      "execution_count": 0,
      "outputs": []
    },
    {
      "cell_type": "markdown",
      "metadata": {
        "id": "9gwii0TBHvzh",
        "colab_type": "text"
      },
      "source": [
        "**Define Data Preprocessing**"
      ]
    },
    {
      "cell_type": "markdown",
      "metadata": {
        "id": "9g1b600qcZ8W",
        "colab_type": "text"
      },
      "source": [
        "\n",
        "I defined the transformations to apply to images in the dataset (both training and evaluation),\n",
        "at first:\n",
        "\n",
        "\n",
        "*   resize (256)\n",
        "*   center-crop (224)\n",
        "*   to Tensor\n",
        "*   normalize (mean=.5 .5 .5 ) (std=.5 .5 .5)\n",
        "\n",
        "\n"
      ]
    },
    {
      "cell_type": "code",
      "metadata": {
        "id": "QUDdw4j2H0Mc",
        "colab_type": "code",
        "colab": {}
      },
      "source": [
        "# Define transforms for training phase\n",
        "train_transform = transforms.Compose([transforms.Resize(256),      # Resizes short size of the PIL image to 256\n",
        "                                      transforms.CenterCrop(224),  # Crops a central square patch of the image\n",
        "                                                                   # 224 because torchvision's AlexNet needs a 224x224 input!\n",
        "                                                                   # Remember this when applying different transformations, otherwise you get an error\n",
        "                                      transforms.ToTensor(), # Turn PIL Image to torch.Tensor\n",
        "                                      transforms.Normalize((0.5, 0.5, 0.5), (0.5, 0.5, 0.5)) # Normalizes tensor with mean and standard deviation\n",
        "])\n",
        "# Define transforms for the evaluation phase\n",
        "eval_transform = transforms.Compose([transforms.Resize(256),\n",
        "                                      transforms.CenterCrop(224),\n",
        "                                      transforms.ToTensor(),\n",
        "                                      transforms.Normalize((0.5, 0.5, 0.5), (0.5, 0.5, 0.5))                                    \n",
        "])\n"
      ],
      "execution_count": 0,
      "outputs": []
    },
    {
      "cell_type": "markdown",
      "metadata": {
        "id": "tptGf9RxPgTp",
        "colab_type": "text"
      },
      "source": [
        "**My custom dataset (Caltech) class** "
      ]
    },
    {
      "cell_type": "markdown",
      "metadata": {
        "id": "MIUnlbAWeG6n",
        "colab_type": "text"
      },
      "source": [
        "\n",
        "I created my custom dataset class, starting from the one released.\n",
        "that load the images respectively from given train.txt and test.txt files.\n",
        "I created two new functions that help the creation of dataset\n",
        "- load_images(..)\n",
        "- find_classes(..)\n",
        "\n",
        "(easy to imagine their purpose :))\n",
        "\n",
        "the dataset class are:\n",
        "- init(..) : initial processes, when data are loaded (from txt in this case)\n",
        "- len(..) : return the size of data\n",
        "- getitem(..) : return data and label at orbitary index\n"
      ]
    },
    {
      "cell_type": "code",
      "metadata": {
        "id": "7RS6J20pHlUK",
        "colab_type": "code",
        "colab": {}
      },
      "source": [
        "from torchvision.datasets import VisionDataset\n",
        "\n",
        "from PIL import Image\n",
        "\n",
        "import os\n",
        "import os.path\n",
        "import sys\n",
        "\n",
        "TRAIN_PATH ='Homework2-Caltech101/train.txt'\n",
        "TEST_PATH ='Homework2-Caltech101/test.txt'\n",
        "\n",
        "\n",
        "def pil_loader(path):\n",
        "    # open path as file to avoid ResourceWarning (https://github.com/python-pillow/Pillow/issues/835)\n",
        "    with open(path, 'rb') as f:\n",
        "        img = Image.open(f)\n",
        "        return img.convert('RGB')\n",
        "def find_classes(txt_path):\n",
        "    classes=[]\n",
        "    f = open(txt_path)\n",
        "    for l in f.readlines():\n",
        "      x=l.split('/')\n",
        "      if(not x[0] in classes): \n",
        "        classes.append(x[0])\n",
        "    classes.remove('BACKGROUND_Google')\n",
        "    #classes.sort()\n",
        "    class_to_idx = {classes[i]: i for i in range(len(classes))}\n",
        "    print('FOUND {} CLASSES [{},{}..]'.format(len(classes),classes[0],classes[1]))\n",
        "    return classes, class_to_idx\n",
        "\n",
        "def load_images(root,txt_path,class_to_idx):\n",
        "    images=[]\n",
        "    f = open(txt_path)\n",
        "    for path in f.readlines():\n",
        "      label=path.split('/')[0]\n",
        "      if(label in class_to_idx):\n",
        "        image=(pil_loader(root+'/'+path.split('\\n')[0]),class_to_idx[label])\n",
        "        images.append(image)\n",
        "    print('Loaded {} Images and label'.format(len(images)))\n",
        "    return images\n",
        "      \n",
        "\n",
        "\n",
        "class Caltech(VisionDataset):\n",
        "    def __init__(self, root, split='train', transform=None, target_transform=None):\n",
        "        super(Caltech, self).__init__(root, transform=transform, target_transform=target_transform)\n",
        "\n",
        "        self.split = split # This defines the split you are going to use\n",
        "                           # (split files are called 'train.txt' and 'test.txt')\n",
        "        if(split == 'train'):\n",
        "          self.txt_path=TRAIN_PATH\n",
        "        if(split == 'test'):\n",
        "          self.txt_path=TEST_PATH\n",
        "\n",
        "        self.classes,self.class_to_idx=find_classes(self.txt_path) \n",
        "\n",
        "        self.samples=load_images(root,self.txt_path,self.class_to_idx) \n",
        "        '''\n",
        "        - Here you should implement the logic for reading the splits files and accessing elements\n",
        "        - If the RAM size allows it, it is faster to store all data in memory\n",
        "        - PyTorch Dataset classes use indexes to read elements\n",
        "        - You should provide a way for the __getitem__ method to access the image-label pair\n",
        "          through the index\n",
        "        - Labels should start from 0, so for Caltech you will have lables 0...100 (excluding the background class) \n",
        "        '''\n",
        "\n",
        "    def __getitem__(self, index):\n",
        "        '''\n",
        "        __getitem__ should access an element through its index\n",
        "        Args:\n",
        "            index (int): Index\n",
        "\n",
        "        Returns:\n",
        "            tuple: (sample, target) where target is class_index of the target class.\n",
        "        '''\n",
        "\n",
        "         # Provide a way to access image and label via index\n",
        "         # Image should be a PIL Image\n",
        "         # label can be int\n",
        "\n",
        "        image,label =self.samples[index]\n",
        "        # Applies preprocessing when accessing the image\n",
        "        if self.transform is not None:\n",
        "            image = self.transform(image)\n",
        "        \n",
        "        return image, label\n",
        "\n",
        "    def __len__(self):\n",
        "        '''\n",
        "        The __len__ method returns the length of the dataset\n",
        "        It is mandatory, as this is used by several other components\n",
        "        '''\n",
        "        length = len(self.samples)\n",
        "        return length"
      ],
      "execution_count": 0,
      "outputs": []
    },
    {
      "cell_type": "markdown",
      "metadata": {
        "id": "9QJ_5BrBRiZM",
        "colab_type": "text"
      },
      "source": [
        "**Useful function**"
      ]
    },
    {
      "cell_type": "markdown",
      "metadata": {
        "id": "2E-hYITifMvg",
        "colab_type": "text"
      },
      "source": [
        "I wrote several usefull functions that I will use throughout the homework\n",
        "\n",
        "in particular\n",
        "- evaluate(..): test a model on given dataset\n",
        "- plot_graph(..)\n",
        "- train_and_validate(..): very useful function; given a model, optimizer, n_epoch and datasets and dataloaders\n",
        " train the model and evaluate it on each epoch on validation set.\n",
        "at the end (after last epoch) plot two graphs : loss / epochs accuracy / epochs\n",
        "and returns the best model found"
      ]
    },
    {
      "cell_type": "code",
      "metadata": {
        "colab_type": "code",
        "id": "hVCLMBdKRRll",
        "colab": {}
      },
      "source": [
        "def evaluate(model,test_dataset,test_dataloder,type_='Validation'):\n",
        "  model = model.to(DEVICE) # this will bring the network to GPU if DEVICE is cuda\n",
        "  cudnn.benchmark # Calling this optimizes runtime\n",
        "  model.train(False) # Set Network to evaluation mode\n",
        "  accuracy=0\n",
        "  running_corrects = 0\n",
        "  for images, labels in test_dataloader:\n",
        "    images = images.to(DEVICE)\n",
        "    labels = labels.to(DEVICE)\n",
        "    # Forward Pass\n",
        "    outputs = model(images)\n",
        "    # Get predictions\n",
        "    _, preds = torch.max(outputs.data, 1)\n",
        "    # Update Corrects\n",
        "    running_corrects += torch.sum(preds == labels.data).data.item()\n",
        "  # Calculate Accuracy\n",
        "  accuracy = running_corrects / float(len(test_dataset))\n",
        "  print(' {} score: {} '.format(type_,accuracy),end = '')\n",
        "  return accuracy\n",
        "  \n",
        "def plot_graph(x,y,x_label,y_label):\n",
        "  plt.figure(figsize=((10,8)))\n",
        "  plt.plot(x,y, color='blue')\n",
        "  plt.xlabel(x_label)\n",
        "  plt.ylabel(y_label)\n",
        "  plt.show() \n",
        "\n",
        "def train_and_validate(n_epoch,model,train_dataloader,val_dataset,val_dataloader,optimizer,criterion,scheduler):\n",
        "  '''\n",
        "  train the model and validate it on each epoch, \n",
        "  return the model with best score on validation set\n",
        "  '''\n",
        "  model = model.to(DEVICE) # this will bring the network to GPU if DEVICE is cuda\n",
        "  current_step = 0\n",
        "  best_model={'accuracy':0}\n",
        "  accuracies=[] # accuracy for epoch\n",
        "  loss_=[]\n",
        "  # Start iterating over the epochs\n",
        "  \n",
        "  for epoch in range(n_epoch):\n",
        "    medium_loss=0\n",
        "    count_step=0\n",
        "    print('\\nepoch {}/{}, LR = {} '.format(epoch+1, n_epoch, scheduler.get_lr()),end = '')\n",
        "    # Iterate over the dataset\n",
        "    for images, labels in train_dataloader:\n",
        "      # Bring data over the device of choice\n",
        "      images = images.to(DEVICE)\n",
        "      labels = labels.to(DEVICE)\n",
        "      model.train() # Sets module in training mode\n",
        "      # PyTorch, by default, accumulates gradients after each backward pass\n",
        "      # We need to manually set the gradients to zero before starting a new iteration\n",
        "      optimizer.zero_grad() # Zero-ing the gradients\n",
        "      # Forward pass to the network\n",
        "      outputs = model(images)\n",
        "      # Compute loss based on output and ground truth\n",
        "      loss = criterion(outputs, labels)\n",
        "      # Log loss\n",
        "      #if current_step % LOG_FREQUENCY == 0:\n",
        "        #print('Step {}, Loss {}'.format(current_step, loss.item()))\n",
        "      medium_loss+=loss.item()\n",
        "      count_step+=1\n",
        "      # Compute gradients for each layer and update weights\n",
        "      loss.backward()  # backward pass: computes gradients\n",
        "      optimizer.step() # update weights based on accumulated gradients\n",
        "      current_step += 1\n",
        "    medium_loss=medium_loss/count_step\n",
        "    loss_.append(medium_loss)\n",
        "    print(' loss : {}'.format(medium_loss),end = '')\n",
        "    accuracy=evaluate(model,val_dataset,val_dataloader,type_='validation')\n",
        "    accuracies.append(accuracy)\n",
        "    if(accuracy > best_model['accuracy']):\n",
        "      print(' BEST MODEL found!',end='')\n",
        "      best_model['accuracy']=accuracy\n",
        "      best_model['model']=deepcopy(model)\n",
        "    scheduler.step()\n",
        "  best_model['accuracies']=accuracies\n",
        "  #ACCURACY/EPOCH GRAPH\n",
        "  plot_graph(range(n_epoch),accuracies,'Epoch','Accuracy') \n",
        "  #loss/epoch graph\n",
        "  plot_graph(range(n_epoch),loss_,'Epoch','medium loss')\n",
        "\n",
        "  return best_model"
      ],
      "execution_count": 0,
      "outputs": []
    },
    {
      "cell_type": "markdown",
      "metadata": {
        "id": "2qYIHPzYLY7i",
        "colab_type": "text"
      },
      "source": [
        "**Prepare Dataset**"
      ]
    },
    {
      "cell_type": "markdown",
      "metadata": {
        "id": "hdWq88qdl1yG",
        "colab_type": "text"
      },
      "source": [
        "in this section i loaded two dataset from .txts; train and test (5784 images for train and 2893 for test)\n",
        "nb: \n",
        "obviously the images are balanced for each class."
      ]
    },
    {
      "cell_type": "code",
      "metadata": {
        "id": "QfVq_uDHLbsR",
        "colab_type": "code",
        "outputId": "7282cb30-1948-413c-a311-928dac6e2260",
        "colab": {
          "base_uri": "https://localhost:8080/",
          "height": 119
        }
      },
      "source": [
        "# Clone github repository with data\n",
        "if not os.path.isdir('./Homework2-Caltech101'):\n",
        "  !git clone https://github.com/MachineLearning2020/Homework2-Caltech101.git\n",
        "\n",
        "DATA_DIR = 'Homework2-Caltech101/101_ObjectCategories'\n",
        "\n",
        "# Prepare Pytorch train/test Datasets\n",
        "train_dataset= Caltech(DATA_DIR,'train',transform=train_transform)\n",
        "test_dataset= Caltech(DATA_DIR,'test',transform=eval_transform)\n",
        "\n",
        "# Check dataset sizes\n",
        "print('Train Dataset: {}'.format(len(train_dataset)))\n",
        "print('Test Dataset: {}'.format(len(test_dataset)))"
      ],
      "execution_count": 0,
      "outputs": [
        {
          "output_type": "stream",
          "text": [
            "FOUND 101 CLASSES [accordion,airplanes..]\n",
            "Loaded 5784 Images and label\n",
            "FOUND 101 CLASSES [accordion,airplanes..]\n",
            "Loaded 2893 Images and label\n",
            "Train Dataset: 5784\n",
            "Test Dataset: 2893\n"
          ],
          "name": "stdout"
        }
      ]
    },
    {
      "cell_type": "markdown",
      "metadata": {
        "id": "_kfgBVlkarao",
        "colab_type": "text"
      },
      "source": [
        "**Split train into train and validation**\n",
        "\n",
        "\n"
      ]
    },
    {
      "cell_type": "markdown",
      "metadata": {
        "id": "JuAAT_oqmWMY",
        "colab_type": "text"
      },
      "source": [
        "I've splitted train in train and validation (each 2892 images),\n",
        "\n",
        "to maintain the balance I used odd indexes for validation and even for training.\n",
        "(nb: this trick work only because the images are ordered)\n",
        "for all the homework these datasets will be used.\n"
      ]
    },
    {
      "cell_type": "code",
      "metadata": {
        "id": "geyCdElGPLDu",
        "colab_type": "code",
        "outputId": "41dc3203-e2cb-4ced-f672-94002e736633",
        "colab": {
          "base_uri": "https://localhost:8080/",
          "height": 51
        }
      },
      "source": [
        "train_indexes = [idx for idx in range(len(train_dataset)) if idx % 2==0]\n",
        "val_indexes=[i+1 for i in train_indexes]\n",
        "\n",
        "train_dataset=Subset(train_dataset,val_indexes)\n",
        "val_dataset=Subset(train_dataset,train_indexes)\n",
        "print('Training split: {}'.format(len(train_dataset)))\n",
        "print('Validation split: {}'.format(len(val_dataset)))\n",
        "\n"
      ],
      "execution_count": 0,
      "outputs": [
        {
          "output_type": "stream",
          "text": [
            "Training split: 2892\n",
            "Validation split: 2892\n"
          ],
          "name": "stdout"
        }
      ]
    },
    {
      "cell_type": "markdown",
      "metadata": {
        "id": "FYEDQ7Z21ldN",
        "colab_type": "text"
      },
      "source": [
        "**Prepare Dataloaders**"
      ]
    },
    {
      "cell_type": "markdown",
      "metadata": {
        "id": "iQyUfNh7rCas",
        "colab_type": "text"
      },
      "source": [
        "from pytorch docs:\n",
        "\n",
        "`Data loader. Combines a dataset and a sampler, and provides an iterable over the given dataset.`\n",
        "\n",
        "Dataloaders help to put in ram a batch of data from dataset, help with parallelization and provide some usefull tools like shuffling and more.\n",
        "there is a dataloader for each split (train,test,val)\n"
      ]
    },
    {
      "cell_type": "code",
      "metadata": {
        "id": "VriRw8SI1nle",
        "colab_type": "code",
        "colab": {}
      },
      "source": [
        "# Dataloaders iterate over pytorch datasets and transparently provide useful functions (e.g. parallelization and shuffling)\n",
        "train_dataloader = DataLoader(train_dataset, batch_size=BATCH_SIZE, shuffle=True, num_workers=4, drop_last=True)\n",
        "test_dataloader = DataLoader(test_dataset, batch_size=BATCH_SIZE, shuffle=False, num_workers=4)\n",
        "val_dataloader = DataLoader(val_dataset, batch_size=BATCH_SIZE, shuffle=False, num_workers=4)"
      ],
      "execution_count": 0,
      "outputs": []
    },
    {
      "cell_type": "markdown",
      "metadata": {
        "id": "gbZ1t5Qs2z4j",
        "colab_type": "text"
      },
      "source": [
        "**Prepare Network**"
      ]
    },
    {
      "cell_type": "markdown",
      "metadata": {
        "id": "E5NETygqsI4t",
        "colab_type": "text"
      },
      "source": [
        "- Load the Alexnet (pytorch implementation) \n",
        "- change fc layer from 1000 output to 101 output (caltech classes)"
      ]
    },
    {
      "cell_type": "code",
      "metadata": {
        "id": "exHUjtXa22DN",
        "colab_type": "code",
        "colab": {}
      },
      "source": [
        "net = alexnet() # Loading AlexNet model\n",
        "# AlexNet has 1000 output neurons, corresponding to the 1000 ImageNet's classes\n",
        "# We need 101 outputs for Caltech-101\n",
        "net.classifier[6] = nn.Linear(4096, NUM_CLASSES) # nn.Linear in pytorch is a fully connected layer\n",
        "                                                 # The convolutional layer is nn.Conv2d\n",
        "# We just changed the last layer of AlexNet with a new fully connected layer with 101 outputs\n",
        "# It is mandatory to study torchvision.models.alexnet source code"
      ],
      "execution_count": 0,
      "outputs": []
    },
    {
      "cell_type": "markdown",
      "metadata": {
        "id": "KEyL3H_R4qCf",
        "colab_type": "text"
      },
      "source": [
        "**Prepare Training**"
      ]
    },
    {
      "cell_type": "markdown",
      "metadata": {
        "id": "yJNdKRo8sjWp",
        "colab_type": "text"
      },
      "source": [
        "Define:\n",
        "\n",
        "\n",
        "*   criterion: cross entropy\n",
        "*   param to oprimize: at firsts step of homework i will optimize all params of network (net.parameters())\n",
        "*   optimizer: the optimizer update the weights based on the loss,in this case is used SGD with momentum\n",
        "*   scheduler : dynamically change the LR \n",
        "\n"
      ]
    },
    {
      "cell_type": "code",
      "metadata": {
        "id": "9sjq00G94tSc",
        "colab_type": "code",
        "colab": {}
      },
      "source": [
        "# Define loss function\n",
        "criterion = nn.CrossEntropyLoss() # for classification, we use Cross Entropy\n",
        "# Choose parameters to optimize\n",
        "# To access a different set of parameters, you have to access submodules of AlexNet\n",
        "# (nn.Module objects, like AlexNet, implement the Composite Pattern)\n",
        "# e.g.: parameters of the fully connected layers: net.classifier.parameters()\n",
        "# e.g.: parameters of the convolutional layers: look at alexnet's source code ;) \n",
        "parameters_to_optimize = net.parameters() # In this case we optimize over all the parameters of AlexNet\n",
        "# Define optimizer\n",
        "# An optimizer updates the weights based on loss\n",
        "# We use SGD with momentum\n",
        "optimizer = optim.SGD(parameters_to_optimize, lr=LR_TEST, momentum=MOMENTUM, weight_decay=WEIGHT_DECAY)\n",
        "# Define scheduler\n",
        "# A scheduler dynamically changes learning rate\n",
        "# The most common schedule is the step(-down), which multiplies learning rate by gamma every STEP_SIZE epochs\n",
        "scheduler = optim.lr_scheduler.StepLR(optimizer, step_size=STEP_SIZE_TEST, gamma=GAMMA)"
      ],
      "execution_count": 0,
      "outputs": []
    },
    {
      "cell_type": "markdown",
      "metadata": {
        "id": "MUdZTb24QQNi",
        "colab_type": "text"
      },
      "source": [
        "##**Train**"
      ]
    },
    {
      "cell_type": "markdown",
      "metadata": {
        "id": "8jnM80MUu6m0",
        "colab_type": "text"
      },
      "source": [
        "\n",
        "To find a good model I didn't put all the parameters to optimize in a double/triple for (like a gridSearch)\n",
        "but I did several experiments analyzing the progress of each model, first modifying the learning rate (the one given to me was too small, especially after splitting the train in train + validation)\n",
        "and then the step size and the number of epochs.\n",
        "\n",
        "for each epoch the model is evaluated on validation set.\n",
        "\n",
        "the printed output below show the epoch,loss,val_score\n",
        "at the end two graphs showing the trend of these variables over the epochs.\n",
        "\n",
        "the printed output below show (..one of) the best model that i found over experiments:\n",
        "- **LR:0.05**\n",
        "- **50 epochs**\n",
        "- **step size:35** \n",
        "\n"
      ]
    },
    {
      "cell_type": "code",
      "metadata": {
        "id": "JBOPYZwTQSWV",
        "colab_type": "code",
        "outputId": "655f374d-4340-4f27-e887-15a19a808d21",
        "colab": {
          "base_uri": "https://localhost:8080/",
          "height": 1000
        }
      },
      "source": [
        "# Train and evaluate with my custom function, return the best model found on all epochsa\n",
        "# print 2 graphs showing ho varies the accuracy and the loss trough the epochs\n",
        "best_model=train_and_validate(50,net,train_dataloader,val_dataset,val_dataloader,optimizer,criterion,scheduler)"
      ],
      "execution_count": 0,
      "outputs": [
        {
          "output_type": "stream",
          "text": [
            "\n",
            "epoch 1/50, LR = [0.05]  loss : 4.593657623637807 validation score: 0.09197786998616875  BEST MODEL found!\n",
            "epoch 2/50, LR = [0.05]  loss : 4.4370271075855605 validation score: 0.09197786998616875 \n",
            "epoch 3/50, LR = [0.05]  loss : 4.2419892224398525 validation score: 0.09197786998616875 \n",
            "epoch 4/50, LR = [0.05]  loss : 4.2301602797074755 validation score: 0.09197786998616875 \n",
            "epoch 5/50, LR = [0.05]  loss : 4.147969852794301 validation score: 0.09197786998616875 \n",
            "epoch 6/50, LR = [0.05]  loss : 4.057804692875255 validation score: 0.15525587828492393  BEST MODEL found!\n",
            "epoch 7/50, LR = [0.05]  loss : 3.869585644115101 validation score: 0.21542185338865838  BEST MODEL found!\n",
            "epoch 8/50, LR = [0.05]  loss : 3.662203983827071 validation score: 0.2143845089903181 \n",
            "epoch 9/50, LR = [0.05]  loss : 3.5391142151572486 validation score: 0.258298755186722  BEST MODEL found!\n",
            "epoch 10/50, LR = [0.05]  loss : 3.505119735544378 validation score: 0.25622406639004147 \n",
            "epoch 11/50, LR = [0.05]  loss : 3.3253775509920986 validation score: 0.2887275242047026  BEST MODEL found!\n",
            "epoch 12/50, LR = [0.05]  loss : 3.1246937838467685 validation score: 0.3284923928077455  BEST MODEL found!\n",
            "epoch 13/50, LR = [0.05]  loss : 2.904759233648127 validation score: 0.35719225449515907  BEST MODEL found!\n",
            "epoch 14/50, LR = [0.05]  loss : 2.750786781311035 validation score: 0.37136929460580914  BEST MODEL found!\n",
            "epoch 15/50, LR = [0.05]  loss : 2.58216853575273 validation score: 0.38450899031811897  BEST MODEL found!\n",
            "epoch 16/50, LR = [0.05]  loss : 2.450655048543757 validation score: 0.37378976486860305 \n",
            "epoch 17/50, LR = [0.05]  loss : 2.331090060147372 validation score: 0.39730290456431533  BEST MODEL found!\n",
            "epoch 18/50, LR = [0.05]  loss : 2.086157787929882 validation score: 0.40594744121715076  BEST MODEL found!\n",
            "epoch 19/50, LR = [0.05]  loss : 1.939303083853288 validation score: 0.448478561549101  BEST MODEL found!\n",
            "epoch 20/50, LR = [0.05]  loss : 1.6259516694329001 validation score: 0.4464038727524205 \n",
            "epoch 21/50, LR = [0.05]  loss : 1.5055184797807173 validation score: 0.46265560165975106  BEST MODEL found!\n",
            "epoch 22/50, LR = [0.05]  loss : 1.364645611156117 validation score: 0.4412171507607192 \n",
            "epoch 23/50, LR = [0.05]  loss : 1.1630618897351352 validation score: 0.4657676348547718  BEST MODEL found!\n",
            "epoch 24/50, LR = [0.05]  loss : 1.0565672516822815 validation score: 0.475103734439834  BEST MODEL found!\n",
            "epoch 25/50, LR = [0.05]  loss : 0.8889344822276722 validation score: 0.4730290456431535 \n",
            "epoch 26/50, LR = [0.05]  loss : 0.8157401518388228 validation score: 0.45712309820193636 \n",
            "epoch 27/50, LR = [0.05]  loss : 0.710897380655462 validation score: 0.48686030428769017  BEST MODEL found!\n",
            "epoch 28/50, LR = [0.05]  loss : 0.669519001787359 validation score: 0.49100968188105115  BEST MODEL found!\n",
            "epoch 29/50, LR = [0.05]  loss : 0.532810628414154 validation score: 0.48167358229598894 \n",
            "epoch 30/50, LR = [0.05]  loss : 0.4236672656102614 validation score: 0.49654218533886585  BEST MODEL found!\n",
            "epoch 31/50, LR = [0.05]  loss : 0.49858367984945123 validation score: 0.49688796680497926  BEST MODEL found!\n",
            "epoch 32/50, LR = [0.05]  loss : 0.3943786052140323 validation score: 0.49930843706777317  BEST MODEL found!\n",
            "epoch 33/50, LR = [0.05]  loss : 0.34824153916402295 validation score: 0.5017289073305671  BEST MODEL found!\n",
            "epoch 34/50, LR = [0.05]  loss : 0.3231798234311017 validation score: 0.4899723374827109 \n",
            "epoch 35/50, LR = [0.05]  loss : 0.2879230698401278 validation score: 0.5086445366528354  BEST MODEL found!\n",
            "epoch 36/50, LR = [0.005000000000000001]  loss : 0.1879965290427208 validation score: 0.5179806362378977  BEST MODEL found!\n",
            "epoch 37/50, LR = [0.005000000000000001]  loss : 0.09711063043637709 validation score: 0.5245504840940526  BEST MODEL found!\n",
            "epoch 38/50, LR = [0.005000000000000001]  loss : 0.06843117522922429 validation score: 0.5293914246196404  BEST MODEL found!\n",
            "epoch 39/50, LR = [0.005000000000000001]  loss : 0.047134770757772705 validation score: 0.5273167358229599 \n",
            "epoch 40/50, LR = [0.005000000000000001]  loss : 0.03254999609833414 validation score: 0.5338865836791148  BEST MODEL found!\n",
            "epoch 41/50, LR = [0.005000000000000001]  loss : 0.029788913374597378 validation score: 0.5342323651452282  BEST MODEL found!\n",
            "epoch 42/50, LR = [0.005000000000000001]  loss : 0.03175303238359364 validation score: 0.5345781466113416  BEST MODEL found!\n",
            "epoch 43/50, LR = [0.005000000000000001]  loss : 0.021273088895461777 validation score: 0.5335408022130014 \n",
            "epoch 44/50, LR = [0.005000000000000001]  loss : 0.022669729861346157 validation score: 0.5356154910096819  BEST MODEL found!\n",
            "epoch 45/50, LR = [0.005000000000000001]  loss : 0.0212044683708386 validation score: 0.534923928077455 \n",
            "epoch 46/50, LR = [0.005000000000000001]  loss : 0.02689671397886493 validation score: 0.5356154910096819 \n",
            "epoch 47/50, LR = [0.005000000000000001]  loss : 0.022916724566708912 validation score: 0.5369986168741355  BEST MODEL found!\n",
            "epoch 48/50, LR = [0.005000000000000001]  loss : 0.012008548629554834 validation score: 0.5342323651452282 \n",
            "epoch 49/50, LR = [0.005000000000000001]  loss : 0.016575152731754562 validation score: 0.5342323651452282 \n",
            "epoch 50/50, LR = [0.005000000000000001]  loss : 0.016787321052768013 validation score: 0.534923928077455 "
          ],
          "name": "stdout"
        },
        {
          "output_type": "display_data",
          "data": {
            "image/png": "[encoded data removed]",
            "text/plain": [
              "<Figure size 720x576 with 1 Axes>"
            ]
          },
          "metadata": {
            "tags": []
          }
        },
        {
          "output_type": "display_data",
          "data": {
            "text/plain": [
              "<Figure size 432x288 with 0 Axes>"
            ]
          },
          "metadata": {
            "tags": []
          }
        },
        {
          "output_type": "display_data",
          "data": {
            "image/png": "[encoded data removed]",
            "text/plain": [
              "<Figure size 720x576 with 1 Axes>"
            ]
          },
          "metadata": {
            "tags": []
          }
        },
        {
          "output_type": "display_data",
          "data": {
            "text/plain": [
              "<Figure size 432x288 with 0 Axes>"
            ]
          },
          "metadata": {
            "tags": []
          }
        }
      ]
    },
    {
      "cell_type": "markdown",
      "metadata": {
        "id": "UsHFI-GAJd69",
        "colab_type": "text"
      },
      "source": [
        "##**Test**\n",
        "evaluate the best model on test set"
      ]
    },
    {
      "cell_type": "code",
      "metadata": {
        "id": "EO3HV5pqJg1o",
        "colab_type": "code",
        "outputId": "fcc0164b-cab4-4ebf-a987-9965e362465b",
        "colab": {
          "base_uri": "https://localhost:8080/",
          "height": 34
        }
      },
      "source": [
        "net = best_model['model']\n",
        "net = net.to(DEVICE) # this will bring the network to GPU if DEVICE is cuda\n",
        "net.train(False) # Set Network to evaluation mode\n",
        "accuracy=evaluate(net,test_dataset,test_dataloader,type_='test set ')\n"
      ],
      "execution_count": 0,
      "outputs": [
        {
          "output_type": "stream",
          "text": [
            " test set  score: 0.5368129968890425 "
          ],
          "name": "stdout"
        }
      ]
    },
    {
      "cell_type": "markdown",
      "metadata": {
        "id": "6v4KH8uhgKPO",
        "colab_type": "text"
      },
      "source": [
        "| LR   | EPOCH | STEP | LOSS    | MAX SCORE ON VALIDATION SET |  SCORE ON TEST |\n",
        "|------|-------|------|---------|-----------------------------|----------------|\n",
        "| 0.1  | 30    | 20   | diverge |                             |                |\n",
        "| 0.05 | 60    | 20   | 0.34    | 0.47                        |                |\n",
        "| 0.05 | 40    | 10   | 3.9     | 0.12                        |                |\n",
        "| 0.05 | 50    | 35   | 0.016   | 0.54                         | 0.54           |\n",
        "| 0.01 | 40    | 25   | 0.37    | 0.34  \n",
        "                      |                \n",
        "|0.001 (stock) | 30 (stock)| 20 (stock)| 2.5 | 0.16\n",
        "\n",
        "\n",
        "as you can see from the table there is a lot of difference in the results of the various tests with different hyperparameters.\n",
        "\n",
        "it can be noted, however, that the starting learning rate 0.001 is too small to converge in acceptable times/epochs.\n",
        "\n",
        "nb: i evaluated on test set only the best model that i found, all others models are evaluated (for each epochs) only on validation set, and the validation score refers only the best model in all iterations.\n",
        "instead the loss is the loss at the last epochs.\n"
      ]
    },
    {
      "cell_type": "markdown",
      "metadata": {
        "id": "zyUYFpRyl35w",
        "colab_type": "text"
      },
      "source": [
        "# Transfer Learning\n",
        "\n",
        "in this section I do the same experiments as before but this time on the pretrained net. \n",
        "\n",
        "for 'pretrained' i mean:\n",
        "```\n",
        "Use the weights learned by training on a large related dataset as a starting point for\n",
        "training on the small dataset \n",
        "```\n",
        "\n",
        "it can be seen that the pretrained network converges much much faster, so I preferred to use fewer epochs also to reduce the execution time!"
      ]
    },
    {
      "cell_type": "markdown",
      "metadata": {
        "id": "IAzqHOPhpij1",
        "colab_type": "text"
      },
      "source": [
        "**Prepare dataset with new transform (mean and std of imageNet)**\n",
        "\n",
        "the procedure is the same as before but this time in the normalize function (into transforms) i use mean and std of imagenet:\n",
        "\n",
        "\n",
        "*   mean: (0.485, 0.456, 0.406),\n",
        "*   std:   (0.229, 0.224, 0.225)\n",
        "\n",
        "\n",
        "\n"
      ]
    },
    {
      "cell_type": "code",
      "metadata": {
        "colab_type": "code",
        "id": "aFI_hECqmEzY",
        "outputId": "1af31112-a535-4002-9411-e235ba3fc1a8",
        "colab": {
          "base_uri": "https://localhost:8080/",
          "height": 153
        }
      },
      "source": [
        "# params\n",
        "LR = 0.01           # The initial Learning Rate\n",
        "NUM_EPOCHS = 20      # Total number of training epochs (iterations over dataset)\n",
        "STEP_SIZE = 15\n",
        "\n",
        "# normalize function with mean and standard deviation of imagenet\n",
        "alex_pretrained_transform = transforms.Compose([transforms.Resize(256),\n",
        "                                      transforms.CenterCrop(224),\n",
        "                                      transforms.ToTensor(),\n",
        "                                      transforms.Normalize( (0.485, 0.456, 0.406), (0.229, 0.224, 0.225))                                    \n",
        "])\n",
        "\n",
        "train_dataset= Caltech(DATA_DIR,'train',transform=alex_pretrained_transform)  # make dataset with custom transform (mean and std of imagenet)\n",
        "test_dataset= Caltech(DATA_DIR,'test',transform=alex_pretrained_transform)\n",
        "# Check dataset sizes\n",
        "print('Train Dataset: {}'.format(len(train_dataset)))\n",
        "print('Test Dataset: {}'.format(len(test_dataset)))\n",
        "train_indexes = [idx for idx in range(len(train_dataset)) if idx % 2==0]\n",
        "val_indexes=[i+1 for i in train_indexes]\n",
        "#train and val\n",
        "train_dataset=Subset(train_dataset,val_indexes)\n",
        "val_dataset=Subset(train_dataset,train_indexes)\n",
        "print('Training split: {}'.format(len(train_dataset)))\n",
        "print('Validation split: {}'.format(len(val_dataset)))\n",
        "#dataloader\n",
        "train_dataloader = DataLoader(train_dataset, batch_size=BATCH_SIZE, shuffle=True, num_workers=4, drop_last=True)\n",
        "test_dataloader = DataLoader(test_dataset, batch_size=BATCH_SIZE, shuffle=False, num_workers=4)\n",
        "val_dataloader = DataLoader(val_dataset, batch_size=BATCH_SIZE, shuffle=False, num_workers=4)"
      ],
      "execution_count": 0,
      "outputs": [
        {
          "output_type": "stream",
          "text": [
            "FOUND 101 CLASSES [accordion,airplanes..]\n",
            "Loaded 5784 Images and label\n",
            "FOUND 101 CLASSES [accordion,airplanes..]\n",
            "Loaded 2893 Images and label\n",
            "Train Dataset: 5784\n",
            "Test Dataset: 2893\n",
            "Training split: 2892\n",
            "Validation split: 2892\n"
          ],
          "name": "stdout"
        }
      ]
    },
    {
      "cell_type": "markdown",
      "metadata": {
        "id": "Sbn30c8HvS8K",
        "colab_type": "text"
      },
      "source": [
        "**load alexnet pretrained**\n",
        "\n",
        "\n",
        "the procedure is the same as before ,except for:\n",
        "\n",
        "\n",
        "```\n",
        "net = alexnet(pretrained=True)\n",
        "```\n",
        "\n"
      ]
    },
    {
      "cell_type": "code",
      "metadata": {
        "id": "pEj47gQWqvWY",
        "colab_type": "code",
        "colab": {}
      },
      "source": [
        "net = alexnet(pretrained=True) # Loading AlexNet model pretrained\n",
        "net.classifier[6] = nn.Linear(4096, NUM_CLASSES) # nn.Linear in pytorch is a fully connected layer\n",
        "criterion = nn.CrossEntropyLoss() # for classification, we use Cross Entropy\n",
        "parameters_to_optimize = net.parameters() # In this case we optimize over all the parameters of AlexNet\n",
        "optimizer = optim.SGD(parameters_to_optimize, lr=LR, momentum=MOMENTUM, weight_decay=WEIGHT_DECAY)\n",
        "scheduler = optim.lr_scheduler.StepLR(optimizer, step_size=STEP_SIZE, gamma=GAMMA)"
      ],
      "execution_count": 0,
      "outputs": []
    },
    {
      "cell_type": "markdown",
      "metadata": {
        "id": "kSinjf5a_eMM",
        "colab_type": "text"
      },
      "source": [
        "**Alexnet structure:**"
      ]
    },
    {
      "cell_type": "code",
      "metadata": {
        "id": "jumEK-L4ADIV",
        "colab_type": "code",
        "outputId": "f905b06e-79c6-4f61-f46c-dd4aaab4b3c3",
        "colab": {
          "base_uri": "https://localhost:8080/",
          "height": 476
        }
      },
      "source": [
        "print(net)\n"
      ],
      "execution_count": 0,
      "outputs": [
        {
          "output_type": "stream",
          "text": [
            "AlexNet(\n",
            "  (features): Sequential(\n",
            "    (0): Conv2d(3, 64, kernel_size=(11, 11), stride=(4, 4), padding=(2, 2))\n",
            "    (1): ReLU(inplace=True)\n",
            "    (2): MaxPool2d(kernel_size=3, stride=2, padding=0, dilation=1, ceil_mode=False)\n",
            "    (3): Conv2d(64, 192, kernel_size=(5, 5), stride=(1, 1), padding=(2, 2))\n",
            "    (4): ReLU(inplace=True)\n",
            "    (5): MaxPool2d(kernel_size=3, stride=2, padding=0, dilation=1, ceil_mode=False)\n",
            "    (6): Conv2d(192, 384, kernel_size=(3, 3), stride=(1, 1), padding=(1, 1))\n",
            "    (7): ReLU(inplace=True)\n",
            "    (8): Conv2d(384, 256, kernel_size=(3, 3), stride=(1, 1), padding=(1, 1))\n",
            "    (9): ReLU(inplace=True)\n",
            "    (10): Conv2d(256, 256, kernel_size=(3, 3), stride=(1, 1), padding=(1, 1))\n",
            "    (11): ReLU(inplace=True)\n",
            "    (12): MaxPool2d(kernel_size=3, stride=2, padding=0, dilation=1, ceil_mode=False)\n",
            "  )\n",
            "  (avgpool): AdaptiveAvgPool2d(output_size=(6, 6))\n",
            "  (classifier): Sequential(\n",
            "    (0): Dropout(p=0.5, inplace=False)\n",
            "    (1): Linear(in_features=9216, out_features=4096, bias=True)\n",
            "    (2): ReLU(inplace=True)\n",
            "    (3): Dropout(p=0.5, inplace=False)\n",
            "    (4): Linear(in_features=4096, out_features=4096, bias=True)\n",
            "    (5): ReLU(inplace=True)\n",
            "    (6): Linear(in_features=4096, out_features=101, bias=True)\n",
            "  )\n",
            ")\n"
          ],
          "name": "stdout"
        }
      ]
    },
    {
      "cell_type": "markdown",
      "metadata": {
        "id": "ZoiphQyW_oEb",
        "colab_type": "text"
      },
      "source": [
        "**Train the model pretrained** and found best hyper-params"
      ]
    },
    {
      "cell_type": "code",
      "metadata": {
        "id": "6uzJvdl0_sdg",
        "colab_type": "code",
        "outputId": "bfc4b0ea-fc3c-4d82-bec1-8f77ec7e4d88",
        "colab": {
          "base_uri": "https://localhost:8080/",
          "height": 1000
        }
      },
      "source": [
        "net = net.to(DEVICE) # this will bring the network to GPU if DEVICE is cuda\n",
        "cudnn.benchmark # Calling this optimizes runtime\n",
        "best_model_pretrained=train_and_validate(NUM_EPOCHS,net,train_dataloader,val_dataset,val_dataloader,optimizer,criterion,scheduler)"
      ],
      "execution_count": 0,
      "outputs": [
        {
          "output_type": "stream",
          "text": [
            "\n",
            "epoch 1/20, LR = [0.01]  loss : 2.9351478815078735 validation score: 0.6524896265560166  BEST MODEL found!\n",
            "epoch 2/20, LR = [0.01]  loss : 0.8723358620296825 validation score: 0.7538035961272476  BEST MODEL found!\n",
            "epoch 3/20, LR = [0.01]  loss : 0.38032312420281494 validation score: 0.8132780082987552  BEST MODEL found!\n",
            "epoch 4/20, LR = [0.01]  loss : 0.14736244624311273 validation score: 0.8215767634854771  BEST MODEL found!\n",
            "epoch 5/20, LR = [0.01]  loss : 0.0816753598099405 validation score: 0.8226141078838174  BEST MODEL found!\n",
            "epoch 6/20, LR = [0.01]  loss : 0.0730857253074646 validation score: 0.8246887966804979  BEST MODEL found!\n",
            "epoch 7/20, LR = [0.01]  loss : 0.07041364942084659 validation score: 0.8257261410788381  BEST MODEL found!\n",
            "epoch 8/20, LR = [0.01]  loss : 0.04311365938999436 validation score: 0.8333333333333334  BEST MODEL found!\n",
            "epoch 9/20, LR = [0.01]  loss : 0.029842208393595436 validation score: 0.834716459197787  BEST MODEL found!\n",
            "epoch 10/20, LR = [0.01]  loss : 0.022857032038948753 validation score: 0.8385200553250346  BEST MODEL found!\n",
            "epoch 11/20, LR = [0.01]  loss : 0.022098914804783733 validation score: 0.8378284923928078 \n",
            "epoch 12/20, LR = [0.01]  loss : 0.012373168190771883 validation score: 0.8478561549100968  BEST MODEL found!\n",
            "epoch 13/20, LR = [0.01]  loss : 0.01010569151152264 validation score: 0.8423236514522822 \n",
            "epoch 14/20, LR = [0.01]  loss : 0.008650402792475441 validation score: 0.843015214384509 \n",
            "epoch 15/20, LR = [0.01]  loss : 0.004677711562676864 validation score: 0.8468188105117566 \n",
            "epoch 16/20, LR = [0.001]  loss : 0.007059651003642516 validation score: 0.8502766251728907  BEST MODEL found!\n",
            "epoch 17/20, LR = [0.001]  loss : 0.0037108432840217242 validation score: 0.8516597510373444  BEST MODEL found!\n",
            "epoch 18/20, LR = [0.001]  loss : 0.0018900687044317071 validation score: 0.8516597510373444 \n",
            "epoch 19/20, LR = [0.001]  loss : 0.0024731972000815654 validation score: 0.853042876901798  BEST MODEL found!\n",
            "epoch 20/20, LR = [0.001]  loss : 0.0016257847574624147 validation score: 0.8533886583679114  BEST MODEL found!"
          ],
          "name": "stdout"
        },
        {
          "output_type": "display_data",
          "data": {
            "image/png": "[encoded data removed]",
            "text/plain": [
              "<Figure size 720x576 with 1 Axes>"
            ]
          },
          "metadata": {
            "tags": []
          }
        },
        {
          "output_type": "display_data",
          "data": {
            "text/plain": [
              "<Figure size 432x288 with 0 Axes>"
            ]
          },
          "metadata": {
            "tags": []
          }
        },
        {
          "output_type": "display_data",
          "data": {
            "image/png": "[encoded data removed]",
            "text/plain": [
              "<Figure size 720x576 with 1 Axes>"
            ]
          },
          "metadata": {
            "tags": []
          }
        },
        {
          "output_type": "display_data",
          "data": {
            "text/plain": [
              "<Figure size 432x288 with 0 Axes>"
            ]
          },
          "metadata": {
            "tags": []
          }
        }
      ]
    },
    {
      "cell_type": "markdown",
      "metadata": {
        "id": "fwNsGFDVEvi0",
        "colab_type": "text"
      },
      "source": [
        "\n",
        "\n",
        "|lr    |epochs    |step    |loss   |score (validation)  |\n",
        "----------|--------|--------|-------|---------|\n",
        "|0.05   |20 |15 | div!  | div!|\n",
        "|0.01 | 20 |15 | 0.001 | 0.853 |\n",
        "|0.01   |30 | 15| 0.0012 | 0.852|\n",
        "|0.008   |20 |15 | 0.0024 | 0.85 |\n",
        "|0.005   |15 | 10| 0.007  | 0.84 |\n",
        "|0.005   |30 |25 | 0.002  | 0.853|\n",
        "|0.001  |30 | 25| 0.0015 | 0.83|\n",
        "\n",
        "as you can see the results are much better than the previous model.\n",
        "even at the second epoch we reach a 75% accuracy on the validation set, which for me is a very good result;\n",
        "until the accuracy reach, after 20 epoch, just over 85%, impressive!\n",
        "\n",
        "but i tuned again different hyperparameters because the best ones in the \"not pretrained\" model didn't perform very well.\n",
        "\n",
        "\n",
        "*i could even continue to decrease the number of epochs and by making a more precise tuning, obtain even better results*\n",
        "\n"
      ]
    },
    {
      "cell_type": "code",
      "metadata": {
        "id": "5nk2hgTctWV1",
        "colab_type": "code",
        "outputId": "42c337fd-fb73-46d4-c659-eac85779b5c9",
        "colab": {
          "base_uri": "https://localhost:8080/",
          "height": 34
        }
      },
      "source": [
        "net = best_model_pretrained['model']\n",
        "net = net.to(DEVICE) # this will bring the network to GPU if DEVICE is cuda\n",
        "net.train(False) # Set Network to evaluation mode\n",
        "\n",
        "accuracy=evaluate(net,test_dataset,test_dataloader,'test')\n"
      ],
      "execution_count": 0,
      "outputs": [
        {
          "output_type": "stream",
          "text": [
            " test score: 0.85309367438645 "
          ],
          "name": "stdout"
        }
      ]
    },
    {
      "cell_type": "markdown",
      "metadata": {
        "id": "ApurX6PsI_zG",
        "colab_type": "text"
      },
      "source": [
        "## **Freezing layer**\n",
        "- LR= 0.01\n",
        "- 20 epochs\n",
        "- step size = 15\n",
        "\n",
        "in this section I try the hyper-parameters found previously:\n",
        "- training only the fully connected layers\n",
        "- training only the convolutional layers"
      ]
    },
    {
      "cell_type": "code",
      "metadata": {
        "id": "QY0NgQ3UDSfV",
        "colab_type": "code",
        "colab": {}
      },
      "source": [
        "LR = 0.01           # best params\n",
        "NUM_EPOCHS = 20     \n",
        "STEP_SIZE = 15"
      ],
      "execution_count": 0,
      "outputs": []
    },
    {
      "cell_type": "markdown",
      "metadata": {
        "id": "IkNvthsLBn6M",
        "colab_type": "text"
      },
      "source": [
        "**training and test only the fully connected layers**"
      ]
    },
    {
      "cell_type": "code",
      "metadata": {
        "id": "kun1xRokJeYY",
        "colab_type": "code",
        "outputId": "b319ee93-b3a2-450d-b0ca-df29461fa09f",
        "colab": {
          "base_uri": "https://localhost:8080/",
          "height": 1385
        }
      },
      "source": [
        "net = alexnet(pretrained=True) \n",
        "net.classifier[6] = nn.Linear(4096, NUM_CLASSES) \n",
        "criterion = nn.CrossEntropyLoss() \n",
        "parameters_to_optimize = net.classifier.parameters() # only full connected layer\n",
        "optimizer = optim.SGD(parameters_to_optimize, lr=LR, momentum=MOMENTUM, weight_decay=WEIGHT_DECAY)\n",
        "scheduler = optim.lr_scheduler.StepLR(optimizer, step_size=STEP_SIZE, gamma=GAMMA)\n",
        "net = net.to(DEVICE) \n",
        "cudnn.benchmark\n",
        "best_model_full_connected=train_and_validate(NUM_EPOCHS,net,train_dataloader,val_dataset,val_dataloader,optimizer,criterion,scheduler)\n",
        "accuracy=evaluate(best_model_full_connected['model'],test_dataset,test_dataloader,'(full conn layers) test')"
      ],
      "execution_count": 0,
      "outputs": [
        {
          "output_type": "stream",
          "text": [
            "\n",
            "epoch 1/20, LR = [0.01]  loss : 2.9304029074582187 validation score: 0.6825726141078838  BEST MODEL found!\n",
            "epoch 2/20, LR = [0.01]  loss : 0.7810212861407887 validation score: 0.8146611341632088  BEST MODEL found!\n",
            "epoch 3/20, LR = [0.01]  loss : 0.3022911792451685 validation score: 0.8274550484094052  BEST MODEL found!\n",
            "epoch 4/20, LR = [0.01]  loss : 0.14918840337883343 validation score: 0.8520055325034578  BEST MODEL found!\n",
            "epoch 5/20, LR = [0.01]  loss : 0.0780270675366575 validation score: 0.8516597510373444 \n",
            "epoch 6/20, LR = [0.01]  loss : 0.05839121781966903 validation score: 0.8520055325034578 \n",
            "epoch 7/20, LR = [0.01]  loss : 0.045082019472664055 validation score: 0.8509681881051175 \n",
            "epoch 8/20, LR = [0.01]  loss : 0.03657011366025968 validation score: 0.8516597510373444 \n",
            "epoch 9/20, LR = [0.01]  loss : 0.028887460177594967 validation score: 0.8540802213001383  BEST MODEL found!\n",
            "epoch 10/20, LR = [0.01]  loss : 0.029052125120704823 validation score: 0.8537344398340249 \n",
            "epoch 11/20, LR = [0.01]  loss : 0.02634473703801632 validation score: 0.8599585062240664  BEST MODEL found!\n",
            "epoch 12/20, LR = [0.01]  loss : 0.02134986154057763 validation score: 0.8578838174273858 \n",
            "epoch 13/20, LR = [0.01]  loss : 0.01982255703346296 validation score: 0.8575380359612724 \n",
            "epoch 14/20, LR = [0.01]  loss : 0.01852575960484418 validation score: 0.8606500691562933  BEST MODEL found!\n",
            "epoch 15/20, LR = [0.01]  loss : 0.014661048623648558 validation score: 0.857192254495159 \n",
            "epoch 16/20, LR = [0.001]  loss : 0.015154805373061787 validation score: 0.8585753803596127 \n",
            "epoch 17/20, LR = [0.001]  loss : 0.01108616827563806 validation score: 0.8589211618257261 \n",
            "epoch 18/20, LR = [0.001]  loss : 0.014354618266224861 validation score: 0.8599585062240664 \n",
            "epoch 19/20, LR = [0.001]  loss : 0.010773626918142492 validation score: 0.859612724757953 \n",
            "epoch 20/20, LR = [0.001]  loss : 0.012936360456726768 validation score: 0.8599585062240664 "
          ],
          "name": "stdout"
        },
        {
          "output_type": "display_data",
          "data": {
            "image/png": "[encoded data removed]",
            "text/plain": [
              "<Figure size 720x576 with 1 Axes>"
            ]
          },
          "metadata": {
            "tags": []
          }
        },
        {
          "output_type": "display_data",
          "data": {
            "text/plain": [
              "<Figure size 432x288 with 0 Axes>"
            ]
          },
          "metadata": {
            "tags": []
          }
        },
        {
          "output_type": "display_data",
          "data": {
            "image/png": "[encoded data removed]",
            "text/plain": [
              "<Figure size 720x576 with 1 Axes>"
            ]
          },
          "metadata": {
            "tags": []
          }
        },
        {
          "output_type": "display_data",
          "data": {
            "text/plain": [
              "<Figure size 432x288 with 0 Axes>"
            ]
          },
          "metadata": {
            "tags": []
          }
        },
        {
          "output_type": "stream",
          "text": [
            " (full conn layers) test score: 0.8603525751814726 "
          ],
          "name": "stdout"
        }
      ]
    },
    {
      "cell_type": "markdown",
      "metadata": {
        "id": "U2qNPInGDGku",
        "colab_type": "text"
      },
      "source": [
        "**training and test only the conv layers**"
      ]
    },
    {
      "cell_type": "code",
      "metadata": {
        "id": "RrTujYgaDMJ9",
        "colab_type": "code",
        "outputId": "867b5f90-973d-4bac-94c6-84d51ee82476",
        "colab": {
          "base_uri": "https://localhost:8080/",
          "height": 1385
        }
      },
      "source": [
        "net = alexnet(pretrained=True) \n",
        "net.classifier[6] = nn.Linear(4096, NUM_CLASSES) \n",
        "criterion = nn.CrossEntropyLoss() \n",
        "parameters_to_optimize = net.features.parameters() # only fully connected layer\n",
        "optimizer = optim.SGD(parameters_to_optimize, lr=LR, momentum=MOMENTUM, weight_decay=WEIGHT_DECAY)\n",
        "scheduler = optim.lr_scheduler.StepLR(optimizer, step_size=STEP_SIZE, gamma=GAMMA)\n",
        "net = net.to(DEVICE) \n",
        "cudnn.benchmark\n",
        "best_model_conv=train_and_validate(NUM_EPOCHS,net,train_dataloader,val_dataset,val_dataloader,optimizer,criterion,scheduler)\n",
        "accuracy=evaluate(best_model_conv['model'],test_dataset,test_dataloader,'(conv layers) test')"
      ],
      "execution_count": 0,
      "outputs": [
        {
          "output_type": "stream",
          "text": [
            "\n",
            "epoch 1/20, LR = [0.01]  loss : 4.68530425158414 validation score: 0.09820193637621023  BEST MODEL found!\n",
            "epoch 2/20, LR = [0.01]  loss : 4.289907932281494 validation score: 0.20262793914246197  BEST MODEL found!\n",
            "epoch 3/20, LR = [0.01]  loss : 3.773331642150879 validation score: 0.25345781466113415  BEST MODEL found!\n",
            "epoch 4/20, LR = [0.01]  loss : 3.46509296243841 validation score: 0.29356846473029047  BEST MODEL found!\n",
            "epoch 5/20, LR = [0.01]  loss : 3.2764456272125244 validation score: 0.3184647302904564  BEST MODEL found!\n",
            "epoch 6/20, LR = [0.01]  loss : 3.1582499850880015 validation score: 0.34923928077455046  BEST MODEL found!\n",
            "epoch 7/20, LR = [0.01]  loss : 3.062823317267678 validation score: 0.36894882434301524  BEST MODEL found!\n",
            "epoch 8/20, LR = [0.01]  loss : 2.922023144635287 validation score: 0.40076071922544954  BEST MODEL found!\n",
            "epoch 9/20, LR = [0.01]  loss : 2.8436369462446733 validation score: 0.3900414937759336 \n",
            "epoch 10/20, LR = [0.01]  loss : 2.7632934830405493 validation score: 0.4094052558782849  BEST MODEL found!\n",
            "epoch 11/20, LR = [0.01]  loss : 2.6588441241871226 validation score: 0.44778699861687415  BEST MODEL found!\n",
            "epoch 12/20, LR = [0.01]  loss : 2.570653720335527 validation score: 0.44225449515905946 \n",
            "epoch 13/20, LR = [0.01]  loss : 2.490176200866699 validation score: 0.4464038727524205 \n",
            "epoch 14/20, LR = [0.01]  loss : 2.429528691551902 validation score: 0.45885200553250344  BEST MODEL found!\n",
            "epoch 15/20, LR = [0.01]  loss : 2.328540086746216 validation score: 0.45435684647302904 \n",
            "epoch 16/20, LR = [0.001]  loss : 2.160326675935225 validation score: 0.47959889349930845  BEST MODEL found!\n",
            "epoch 17/20, LR = [0.001]  loss : 2.1151971600272437 validation score: 0.48167358229598894  BEST MODEL found!\n",
            "epoch 18/20, LR = [0.001]  loss : 2.084452347321944 validation score: 0.48616874135546334  BEST MODEL found!\n",
            "epoch 19/20, LR = [0.001]  loss : 2.0472929911179976 validation score: 0.4847856154910097 \n",
            "epoch 20/20, LR = [0.001]  loss : 2.0364019762385976 validation score: 0.487551867219917  BEST MODEL found!"
          ],
          "name": "stdout"
        },
        {
          "output_type": "display_data",
          "data": {
            "image/png": "[encoded data removed]",
            "text/plain": [
              "<Figure size 720x576 with 1 Axes>"
            ]
          },
          "metadata": {
            "tags": []
          }
        },
        {
          "output_type": "display_data",
          "data": {
            "text/plain": [
              "<Figure size 432x288 with 0 Axes>"
            ]
          },
          "metadata": {
            "tags": []
          }
        },
        {
          "output_type": "display_data",
          "data": {
            "image/png": "[encoded data removed]",
            "text/plain": [
              "<Figure size 720x576 with 1 Axes>"
            ]
          },
          "metadata": {
            "tags": []
          }
        },
        {
          "output_type": "display_data",
          "data": {
            "text/plain": [
              "<Figure size 432x288 with 0 Axes>"
            ]
          },
          "metadata": {
            "tags": []
          }
        },
        {
          "output_type": "stream",
          "text": [
            " (conv layers) test score: 0.4873833390943657 "
          ],
          "name": "stdout"
        }
      ]
    },
    {
      "cell_type": "markdown",
      "metadata": {
        "id": "n-K8F8iHDNmr",
        "colab_type": "text"
      },
      "source": [
        "**Compare results**\n",
        "\n",
        "\n",
        "as it was easy to imagine,training only the FC, the model converge much much faster then training only the CONV,\n",
        "\n",
        "in this case even the results (training only FC) are a little bit better than training the entire network,\n",
        "I didn't expect this behavior, probably because it manages to converge earlier than train the entire network."
      ]
    },
    {
      "cell_type": "code",
      "metadata": {
        "id": "uH5XdRr7KGrS",
        "colab_type": "code",
        "outputId": "72cca08f-236e-49b9-c020-13c64d2eadcb",
        "colab": {
          "base_uri": "https://localhost:8080/",
          "height": 1045
        }
      },
      "source": [
        "print('ACCURACY OBTAINED WHEN TRAINING FULLY CONNECTED LAYER')\n",
        "plot_graph(range(NUM_EPOCHS),best_model_full_connected['accuracies'],'epochs','accuracy')\n",
        "print('ACCURACY OBTAINED WHEN TRAINING CONVOLUTIONAL LAYER')\n",
        "plot_graph(range(NUM_EPOCHS),best_model_conv['accuracies'],'epochs','accuracy')"
      ],
      "execution_count": 0,
      "outputs": [
        {
          "output_type": "stream",
          "text": [
            "ACCURACY OBTAINED WHEN TRAINING FULLY CONNECTED LAYER\n"
          ],
          "name": "stdout"
        },
        {
          "output_type": "display_data",
          "data": {
            "image/png": "[encoded data removed]",
            "text/plain": [
              "<Figure size 720x576 with 1 Axes>"
            ]
          },
          "metadata": {
            "tags": []
          }
        },
        {
          "output_type": "display_data",
          "data": {
            "text/plain": [
              "<Figure size 432x288 with 0 Axes>"
            ]
          },
          "metadata": {
            "tags": []
          }
        },
        {
          "output_type": "stream",
          "text": [
            "ACCURACY OBTAINED WHEN TRAINING CONVOLUTIONAL LAYER\n"
          ],
          "name": "stdout"
        },
        {
          "output_type": "display_data",
          "data": {
            "image/png": "[encoded data removed]",
            "text/plain": [
              "<Figure size 720x576 with 1 Axes>"
            ]
          },
          "metadata": {
            "tags": []
          }
        },
        {
          "output_type": "display_data",
          "data": {
            "text/plain": [
              "<Figure size 432x288 with 0 Axes>"
            ]
          },
          "metadata": {
            "tags": []
          }
        }
      ]
    },
    {
      "cell_type": "markdown",
      "metadata": {
        "id": "tXzXVGMTbGzZ",
        "colab_type": "text"
      },
      "source": [
        "compare three different type of training:\n",
        "\n",
        "| type of training (layers) | loss  | score(val) | score(test) |\n",
        "|---------------------------|-------|------------|-------------|\n",
        "| all                       | 0.001 | 0.85       | 0.85        |\n",
        "| only Fully connected      | 0.01  | 0.86       | 0.86        |\n",
        "| only convolutional        | 2  | 0.48       | 0.48        |"
      ]
    },
    {
      "cell_type": "markdown",
      "metadata": {
        "id": "L6Ielm0o_S-b",
        "colab_type": "text"
      },
      "source": [
        "# Data augmentation\n",
        "\n",
        "in this section I experiment with different types of image transformations:\n",
        "- (stock) centerCrop\n",
        "- randomCrop\n",
        "- centerCrop + randomHorizontalFlip\n",
        "- centerCrop + randomRotation(180°)"
      ]
    },
    {
      "cell_type": "markdown",
      "metadata": {
        "id": "yDxjvyO96CEq",
        "colab_type": "text"
      },
      "source": [
        "## Prepare datasets with new transforms"
      ]
    },
    {
      "cell_type": "code",
      "metadata": {
        "id": "YAbiH-g7_V6Q",
        "colab_type": "code",
        "outputId": "70414620-8d7b-4a33-d9fd-bc23da2530e6",
        "colab": {
          "base_uri": "https://localhost:8080/",
          "height": 663
        }
      },
      "source": [
        "LR = 0.01           # best params\n",
        "NUM_EPOCHS = 20     \n",
        "STEP_SIZE = 15\n",
        "\n",
        "# normalize function with mean and standard deviation\n",
        "transform = transforms.Compose([transforms.Resize(256),\n",
        "                                      transforms.CenterCrop(224),\n",
        "                                      transforms.ToTensor(),\n",
        "                                      transforms.Normalize( (0.485, 0.456, 0.406), (0.229, 0.224, 0.225))                                    \n",
        "])\n",
        "transform_1 = transforms.Compose([transforms.Resize(256),\n",
        "                                      transforms.RandomCrop(224),\n",
        "                                      transforms.ToTensor(),\n",
        "                                      transforms.Normalize( (0.485, 0.456, 0.406), (0.229, 0.224, 0.225))                                    \n",
        "])\n",
        "transform_2 = transforms.Compose([transforms.Resize(256),\n",
        "                                      transforms.CenterCrop(224),\n",
        "                                      transforms.RandomHorizontalFlip(),\n",
        "                                      transforms.ToTensor(),\n",
        "                                      transforms.Normalize( (0.485, 0.456, 0.406), (0.229, 0.224, 0.225))                                    \n",
        "])\n",
        "transform_3 = transforms.Compose([transforms.Resize(256),\n",
        "                                      transforms.CenterCrop(224),\n",
        "                                      transforms.RandomRotation(180),\n",
        "                                      transforms.ToTensor(),\n",
        "                                      transforms.Normalize( (0.485, 0.456, 0.406), (0.229, 0.224, 0.225))                                    \n",
        "])\n",
        "print('[stock transforms]\\n',transform)\n",
        "print('[transforms #1]\\n',transform_1)\n",
        "print('[transform #2]\\n',transform_2)\n",
        "print('[transform #3]\\n',transform_3)\n",
        "\n",
        "\n",
        "train_dataset= Caltech(DATA_DIR,'train',transform=transform_3)  # make dataset with custom transform (mean and std of imagenet)\n",
        "test_dataset= Caltech(DATA_DIR,'test',transform=transform_3)\n",
        "# Check dataset sizes\n",
        "print('Train Dataset: {}'.format(len(train_dataset)))\n",
        "print('Test Dataset: {}'.format(len(test_dataset)))\n",
        "train_indexes = [idx for idx in range(len(train_dataset)) if idx % 2==0]\n",
        "val_indexes=[i+1 for i in train_indexes]\n",
        "#train and val\n",
        "train_dataset=Subset(train_dataset,val_indexes)\n",
        "val_dataset=Subset(train_dataset,train_indexes)\n",
        "print('Training split: {}'.format(len(train_dataset)))\n",
        "print('Validation split: {}'.format(len(val_dataset)))\n",
        "#dataloader\n",
        "train_dataloader = DataLoader(train_dataset, batch_size=BATCH_SIZE, shuffle=True, num_workers=4, drop_last=True)\n",
        "test_dataloader = DataLoader(test_dataset, batch_size=BATCH_SIZE, shuffle=False, num_workers=4)\n",
        "val_dataloader = DataLoader(val_dataset, batch_size=BATCH_SIZE, shuffle=False, num_workers=4)\n",
        "\n"
      ],
      "execution_count": 0,
      "outputs": [
        {
          "output_type": "stream",
          "text": [
            "[stock transforms]\n",
            " Compose(\n",
            "    Resize(size=256, interpolation=PIL.Image.BILINEAR)\n",
            "    CenterCrop(size=(224, 224))\n",
            "    ToTensor()\n",
            "    Normalize(mean=(0.485, 0.456, 0.406), std=(0.229, 0.224, 0.225))\n",
            ")\n",
            "[transforms #1]\n",
            " Compose(\n",
            "    Resize(size=256, interpolation=PIL.Image.BILINEAR)\n",
            "    RandomCrop(size=(224, 224), padding=None)\n",
            "    ToTensor()\n",
            "    Normalize(mean=(0.485, 0.456, 0.406), std=(0.229, 0.224, 0.225))\n",
            ")\n",
            "[transform #2]\n",
            " Compose(\n",
            "    Resize(size=256, interpolation=PIL.Image.BILINEAR)\n",
            "    CenterCrop(size=(224, 224))\n",
            "    RandomHorizontalFlip(p=0.5)\n",
            "    ToTensor()\n",
            "    Normalize(mean=(0.485, 0.456, 0.406), std=(0.229, 0.224, 0.225))\n",
            ")\n",
            "[transform #3]\n",
            " Compose(\n",
            "    Resize(size=256, interpolation=PIL.Image.BILINEAR)\n",
            "    CenterCrop(size=(224, 224))\n",
            "    RandomRotation(degrees=(-180, 180), resample=False, expand=False)\n",
            "    ToTensor()\n",
            "    Normalize(mean=(0.485, 0.456, 0.406), std=(0.229, 0.224, 0.225))\n",
            ")\n",
            "FOUND 101 CLASSES [accordion,airplanes..]\n",
            "Loaded 5784 Images and label\n",
            "FOUND 101 CLASSES [accordion,airplanes..]\n",
            "Loaded 2893 Images and label\n",
            "Train Dataset: 5784\n",
            "Test Dataset: 2893\n",
            "Training split: 2892\n",
            "Validation split: 2892\n"
          ],
          "name": "stdout"
        }
      ]
    },
    {
      "cell_type": "code",
      "metadata": {
        "colab_type": "code",
        "id": "BzbDA42FDQTJ",
        "outputId": "cf88f5bf-5ae6-42af-91af-737aeb3de94a",
        "colab": {
          "base_uri": "https://localhost:8080/",
          "height": 1000
        }
      },
      "source": [
        "net = alexnet(pretrained=True) \n",
        "net.classifier[6] = nn.Linear(4096, NUM_CLASSES) \n",
        "criterion = nn.CrossEntropyLoss() \n",
        "parameters_to_optimize = net.parameters() # all params\n",
        "optimizer = optim.SGD(parameters_to_optimize, lr=LR, momentum=MOMENTUM, weight_decay=WEIGHT_DECAY)\n",
        "scheduler = optim.lr_scheduler.StepLR(optimizer, step_size=STEP_SIZE, gamma=GAMMA)\n",
        "net = net.to(DEVICE) \n",
        "cudnn.benchmark\n",
        "best_model_augmentation=train_and_validate(NUM_EPOCHS,net,train_dataloader,val_dataset,val_dataloader,optimizer,criterion,scheduler)\n",
        "accuracy=evaluate(best_model_augmentation['model'],test_dataset,test_dataloader,'test')"
      ],
      "execution_count": 0,
      "outputs": [
        {
          "output_type": "stream",
          "text": [
            "\n",
            "epoch 1/20, LR = [0.01]  loss : 3.51328706741333 validation score: 0.4664591977869986  BEST MODEL found!\n",
            "epoch 2/20, LR = [0.01]  loss : 1.9228394681757146 validation score: 0.6099585062240664  BEST MODEL found!\n",
            "epoch 3/20, LR = [0.01]  loss : 1.2947211265563965 validation score: 0.6355463347164592  BEST MODEL found!\n",
            "epoch 4/20, LR = [0.01]  loss : 1.029720203443007 validation score: 0.6255186721991701 \n",
            "epoch 5/20, LR = [0.01]  loss : 0.8175604180856184 validation score: 0.6493775933609959  BEST MODEL found!\n",
            "epoch 6/20, LR = [0.01]  loss : 0.6362503062595021 validation score: 0.648686030428769 \n",
            "epoch 7/20, LR = [0.01]  loss : 0.5876784324645996 validation score: 0.6666666666666666  BEST MODEL found!\n",
            "epoch 8/20, LR = [0.01]  loss : 0.519824204119769 validation score: 0.6628630705394191 \n",
            "epoch 9/20, LR = [0.01]  loss : 0.4559565945105119 validation score: 0.6424619640387276 \n",
            "epoch 10/20, LR = [0.01]  loss : 0.4546502015807412 validation score: 0.6573305670816044 \n",
            "epoch 11/20, LR = [0.01]  loss : 0.3403643559325825 validation score: 0.6690871369294605  BEST MODEL found!\n",
            "epoch 12/20, LR = [0.01]  loss : 0.26439601995728235 validation score: 0.6825726141078838  BEST MODEL found!\n",
            "epoch 13/20, LR = [0.01]  loss : 0.2528823668306524 validation score: 0.6438450899031812 \n",
            "epoch 14/20, LR = [0.01]  loss : 0.2846778224815022 validation score: 0.6773858921161826 \n",
            "epoch 15/20, LR = [0.01]  loss : 0.23916759274222635 validation score: 0.6784232365145229 \n",
            "epoch 16/20, LR = [0.001]  loss : 0.14226132766766983 validation score: 0.6898340248962656  BEST MODEL found!\n",
            "epoch 17/20, LR = [0.001]  loss : 0.10827260396697304 validation score: 0.7029737206085753  BEST MODEL found!\n",
            "epoch 18/20, LR = [0.001]  loss : 0.07181944393298843 validation score: 0.7012448132780082 \n",
            "epoch 19/20, LR = [0.001]  loss : 0.07363670827312903 validation score: 0.7088520055325035  BEST MODEL found!\n",
            "epoch 20/20, LR = [0.001]  loss : 0.055547263473272324 validation score: 0.7043568464730291 "
          ],
          "name": "stdout"
        },
        {
          "output_type": "display_data",
          "data": {
            "image/png": "[encoded data removed]",
            "text/plain": [
              "<Figure size 720x576 with 1 Axes>"
            ]
          },
          "metadata": {
            "tags": []
          }
        },
        {
          "output_type": "display_data",
          "data": {
            "image/png": "[encoded data removed]",
            "text/plain": [
              "<Figure size 720x576 with 1 Axes>"
            ]
          },
          "metadata": {
            "tags": []
          }
        },
        {
          "output_type": "stream",
          "text": [
            " test score: 0.7034220532319392 "
          ],
          "name": "stdout"
        }
      ]
    },
    {
      "cell_type": "markdown",
      "metadata": {
        "id": "KsDRD4esb_zv",
        "colab_type": "text"
      },
      "source": [
        "|       | transforms                            | loss  | score (test) |\n",
        "|-------|--------------------------------------|-------|--------------|\n",
        "| stock | center-crop                          | 0.001 | 0.85         |\n",
        "| 1     | random crop                          | 0.018 | 0.833        |\n",
        "| 2     | center-crop + random horizontal flip | 0.008  | 0.84        |\n",
        "| 3     | center-crop + random rotation (180°) | 0.05  | 0.7          |\n",
        "\n",
        "\n",
        "this time I couldn't get better results than the previous ones (but quite similar).\n",
        "however I think that using different types of transformations greatly helps to reduce overfitting (wee can see this on the loss wich is medium higher than the previous)\n",
        "\n",
        "*Another way can be increase the cardinality of data by concatenate different sets with different transformations*"
      ]
    },
    {
      "cell_type": "markdown",
      "metadata": {
        "id": "ZvUY9MMcnQll",
        "colab_type": "text"
      },
      "source": [
        "# **Beyond AlexNet**\n",
        "\n",
        "## **Resnet**\n",
        "*Very deep network using residual connection.*\n",
        "\n",
        "Resnet is very different model and much deeper than alexnet;\n",
        "\n",
        "it starts from the hypothesis that deep models are more difficult to optimize;\n",
        "\n",
        "solution: use layers to fit residual F(x) = H(x) + x instead of H(x) directly\n",
        "\n",
        "resnet is composed by \"residual blocks\", every block has two 3x3 conv layers\n",
        "\n",
        "since the network is much deeper, it is necessary to lower (even a lot!) the batch size to avoid saturating the gpu ram.\n",
        "\n",
        "*I've also tried the **vgg16** but i couldn't get it to work at its best, and the training was really really slow. and sometimes (even with a very lower batch size) bring Colab to crash for too much Vram request*\n"
      ]
    },
    {
      "cell_type": "markdown",
      "metadata": {
        "id": "gaoYfncBq1HJ",
        "colab_type": "text"
      },
      "source": [
        "**resnet vs alexnet vs vgg16**\n",
        "\n",
        "we can see the huge structural differences between these models."
      ]
    },
    {
      "cell_type": "code",
      "metadata": {
        "id": "RICUY4ZJqyLR",
        "colab_type": "code",
        "outputId": "a587dda5-b31c-43fd-e990-a0bcfaa2e96a",
        "colab": {
          "base_uri": "https://localhost:8080/",
          "height": 1000
        }
      },
      "source": [
        "import torchvision.models as models\n",
        "resnet = models.resnet18(pretrained=True)\n",
        "alexnet = models.alexnet(pretrained=True) \n",
        "vgg=models.vgg16(pretrained=True)\n",
        "print('-------ALEXNET-----')\n",
        "print(alexnet)\n",
        "print('-------RESNET-----')\n",
        "print(resnet)\n",
        "print('-------VGG16-----')\n",
        "print(vgg)\n"
      ],
      "execution_count": 0,
      "outputs": [
        {
          "output_type": "stream",
          "text": [
            "-------ALEXNET-----\n",
            "AlexNet(\n",
            "  (features): Sequential(\n",
            "    (0): Conv2d(3, 64, kernel_size=(11, 11), stride=(4, 4), padding=(2, 2))\n",
            "    (1): ReLU(inplace=True)\n",
            "    (2): MaxPool2d(kernel_size=3, stride=2, padding=0, dilation=1, ceil_mode=False)\n",
            "    (3): Conv2d(64, 192, kernel_size=(5, 5), stride=(1, 1), padding=(2, 2))\n",
            "    (4): ReLU(inplace=True)\n",
            "    (5): MaxPool2d(kernel_size=3, stride=2, padding=0, dilation=1, ceil_mode=False)\n",
            "    (6): Conv2d(192, 384, kernel_size=(3, 3), stride=(1, 1), padding=(1, 1))\n",
            "    (7): ReLU(inplace=True)\n",
            "    (8): Conv2d(384, 256, kernel_size=(3, 3), stride=(1, 1), padding=(1, 1))\n",
            "    (9): ReLU(inplace=True)\n",
            "    (10): Conv2d(256, 256, kernel_size=(3, 3), stride=(1, 1), padding=(1, 1))\n",
            "    (11): ReLU(inplace=True)\n",
            "    (12): MaxPool2d(kernel_size=3, stride=2, padding=0, dilation=1, ceil_mode=False)\n",
            "  )\n",
            "  (avgpool): AdaptiveAvgPool2d(output_size=(6, 6))\n",
            "  (classifier): Sequential(\n",
            "    (0): Dropout(p=0.5, inplace=False)\n",
            "    (1): Linear(in_features=9216, out_features=4096, bias=True)\n",
            "    (2): ReLU(inplace=True)\n",
            "    (3): Dropout(p=0.5, inplace=False)\n",
            "    (4): Linear(in_features=4096, out_features=4096, bias=True)\n",
            "    (5): ReLU(inplace=True)\n",
            "    (6): Linear(in_features=4096, out_features=1000, bias=True)\n",
            "  )\n",
            ")\n",
            "-------RESNET-----\n",
            "ResNet(\n",
            "  (conv1): Conv2d(3, 64, kernel_size=(7, 7), stride=(2, 2), padding=(3, 3), bias=False)\n",
            "  (bn1): BatchNorm2d(64, eps=1e-05, momentum=0.1, affine=True, track_running_stats=True)\n",
            "  (relu): ReLU(inplace=True)\n",
            "  (maxpool): MaxPool2d(kernel_size=3, stride=2, padding=1, dilation=1, ceil_mode=False)\n",
            "  (layer1): Sequential(\n",
            "    (0): BasicBlock(\n",
            "      (conv1): Conv2d(64, 64, kernel_size=(3, 3), stride=(1, 1), padding=(1, 1), bias=False)\n",
            "      (bn1): BatchNorm2d(64, eps=1e-05, momentum=0.1, affine=True, track_running_stats=True)\n",
            "      (relu): ReLU(inplace=True)\n",
            "      (conv2): Conv2d(64, 64, kernel_size=(3, 3), stride=(1, 1), padding=(1, 1), bias=False)\n",
            "      (bn2): BatchNorm2d(64, eps=1e-05, momentum=0.1, affine=True, track_running_stats=True)\n",
            "    )\n",
            "    (1): BasicBlock(\n",
            "      (conv1): Conv2d(64, 64, kernel_size=(3, 3), stride=(1, 1), padding=(1, 1), bias=False)\n",
            "      (bn1): BatchNorm2d(64, eps=1e-05, momentum=0.1, affine=True, track_running_stats=True)\n",
            "      (relu): ReLU(inplace=True)\n",
            "      (conv2): Conv2d(64, 64, kernel_size=(3, 3), stride=(1, 1), padding=(1, 1), bias=False)\n",
            "      (bn2): BatchNorm2d(64, eps=1e-05, momentum=0.1, affine=True, track_running_stats=True)\n",
            "    )\n",
            "  )\n",
            "  (layer2): Sequential(\n",
            "    (0): BasicBlock(\n",
            "      (conv1): Conv2d(64, 128, kernel_size=(3, 3), stride=(2, 2), padding=(1, 1), bias=False)\n",
            "      (bn1): BatchNorm2d(128, eps=1e-05, momentum=0.1, affine=True, track_running_stats=True)\n",
            "      (relu): ReLU(inplace=True)\n",
            "      (conv2): Conv2d(128, 128, kernel_size=(3, 3), stride=(1, 1), padding=(1, 1), bias=False)\n",
            "      (bn2): BatchNorm2d(128, eps=1e-05, momentum=0.1, affine=True, track_running_stats=True)\n",
            "      (downsample): Sequential(\n",
            "        (0): Conv2d(64, 128, kernel_size=(1, 1), stride=(2, 2), bias=False)\n",
            "        (1): BatchNorm2d(128, eps=1e-05, momentum=0.1, affine=True, track_running_stats=True)\n",
            "      )\n",
            "    )\n",
            "    (1): BasicBlock(\n",
            "      (conv1): Conv2d(128, 128, kernel_size=(3, 3), stride=(1, 1), padding=(1, 1), bias=False)\n",
            "      (bn1): BatchNorm2d(128, eps=1e-05, momentum=0.1, affine=True, track_running_stats=True)\n",
            "      (relu): ReLU(inplace=True)\n",
            "      (conv2): Conv2d(128, 128, kernel_size=(3, 3), stride=(1, 1), padding=(1, 1), bias=False)\n",
            "      (bn2): BatchNorm2d(128, eps=1e-05, momentum=0.1, affine=True, track_running_stats=True)\n",
            "    )\n",
            "  )\n",
            "  (layer3): Sequential(\n",
            "    (0): BasicBlock(\n",
            "      (conv1): Conv2d(128, 256, kernel_size=(3, 3), stride=(2, 2), padding=(1, 1), bias=False)\n",
            "      (bn1): BatchNorm2d(256, eps=1e-05, momentum=0.1, affine=True, track_running_stats=True)\n",
            "      (relu): ReLU(inplace=True)\n",
            "      (conv2): Conv2d(256, 256, kernel_size=(3, 3), stride=(1, 1), padding=(1, 1), bias=False)\n",
            "      (bn2): BatchNorm2d(256, eps=1e-05, momentum=0.1, affine=True, track_running_stats=True)\n",
            "      (downsample): Sequential(\n",
            "        (0): Conv2d(128, 256, kernel_size=(1, 1), stride=(2, 2), bias=False)\n",
            "        (1): BatchNorm2d(256, eps=1e-05, momentum=0.1, affine=True, track_running_stats=True)\n",
            "      )\n",
            "    )\n",
            "    (1): BasicBlock(\n",
            "      (conv1): Conv2d(256, 256, kernel_size=(3, 3), stride=(1, 1), padding=(1, 1), bias=False)\n",
            "      (bn1): BatchNorm2d(256, eps=1e-05, momentum=0.1, affine=True, track_running_stats=True)\n",
            "      (relu): ReLU(inplace=True)\n",
            "      (conv2): Conv2d(256, 256, kernel_size=(3, 3), stride=(1, 1), padding=(1, 1), bias=False)\n",
            "      (bn2): BatchNorm2d(256, eps=1e-05, momentum=0.1, affine=True, track_running_stats=True)\n",
            "    )\n",
            "  )\n",
            "  (layer4): Sequential(\n",
            "    (0): BasicBlock(\n",
            "      (conv1): Conv2d(256, 512, kernel_size=(3, 3), stride=(2, 2), padding=(1, 1), bias=False)\n",
            "      (bn1): BatchNorm2d(512, eps=1e-05, momentum=0.1, affine=True, track_running_stats=True)\n",
            "      (relu): ReLU(inplace=True)\n",
            "      (conv2): Conv2d(512, 512, kernel_size=(3, 3), stride=(1, 1), padding=(1, 1), bias=False)\n",
            "      (bn2): BatchNorm2d(512, eps=1e-05, momentum=0.1, affine=True, track_running_stats=True)\n",
            "      (downsample): Sequential(\n",
            "        (0): Conv2d(256, 512, kernel_size=(1, 1), stride=(2, 2), bias=False)\n",
            "        (1): BatchNorm2d(512, eps=1e-05, momentum=0.1, affine=True, track_running_stats=True)\n",
            "      )\n",
            "    )\n",
            "    (1): BasicBlock(\n",
            "      (conv1): Conv2d(512, 512, kernel_size=(3, 3), stride=(1, 1), padding=(1, 1), bias=False)\n",
            "      (bn1): BatchNorm2d(512, eps=1e-05, momentum=0.1, affine=True, track_running_stats=True)\n",
            "      (relu): ReLU(inplace=True)\n",
            "      (conv2): Conv2d(512, 512, kernel_size=(3, 3), stride=(1, 1), padding=(1, 1), bias=False)\n",
            "      (bn2): BatchNorm2d(512, eps=1e-05, momentum=0.1, affine=True, track_running_stats=True)\n",
            "    )\n",
            "  )\n",
            "  (avgpool): AdaptiveAvgPool2d(output_size=(1, 1))\n",
            "  (fc): Linear(in_features=512, out_features=1000, bias=True)\n",
            ")\n",
            "-------VGG16-----\n",
            "VGG(\n",
            "  (features): Sequential(\n",
            "    (0): Conv2d(3, 64, kernel_size=(3, 3), stride=(1, 1), padding=(1, 1))\n",
            "    (1): ReLU(inplace=True)\n",
            "    (2): Conv2d(64, 64, kernel_size=(3, 3), stride=(1, 1), padding=(1, 1))\n",
            "    (3): ReLU(inplace=True)\n",
            "    (4): MaxPool2d(kernel_size=2, stride=2, padding=0, dilation=1, ceil_mode=False)\n",
            "    (5): Conv2d(64, 128, kernel_size=(3, 3), stride=(1, 1), padding=(1, 1))\n",
            "    (6): ReLU(inplace=True)\n",
            "    (7): Conv2d(128, 128, kernel_size=(3, 3), stride=(1, 1), padding=(1, 1))\n",
            "    (8): ReLU(inplace=True)\n",
            "    (9): MaxPool2d(kernel_size=2, stride=2, padding=0, dilation=1, ceil_mode=False)\n",
            "    (10): Conv2d(128, 256, kernel_size=(3, 3), stride=(1, 1), padding=(1, 1))\n",
            "    (11): ReLU(inplace=True)\n",
            "    (12): Conv2d(256, 256, kernel_size=(3, 3), stride=(1, 1), padding=(1, 1))\n",
            "    (13): ReLU(inplace=True)\n",
            "    (14): Conv2d(256, 256, kernel_size=(3, 3), stride=(1, 1), padding=(1, 1))\n",
            "    (15): ReLU(inplace=True)\n",
            "    (16): MaxPool2d(kernel_size=2, stride=2, padding=0, dilation=1, ceil_mode=False)\n",
            "    (17): Conv2d(256, 512, kernel_size=(3, 3), stride=(1, 1), padding=(1, 1))\n",
            "    (18): ReLU(inplace=True)\n",
            "    (19): Conv2d(512, 512, kernel_size=(3, 3), stride=(1, 1), padding=(1, 1))\n",
            "    (20): ReLU(inplace=True)\n",
            "    (21): Conv2d(512, 512, kernel_size=(3, 3), stride=(1, 1), padding=(1, 1))\n",
            "    (22): ReLU(inplace=True)\n",
            "    (23): MaxPool2d(kernel_size=2, stride=2, padding=0, dilation=1, ceil_mode=False)\n",
            "    (24): Conv2d(512, 512, kernel_size=(3, 3), stride=(1, 1), padding=(1, 1))\n",
            "    (25): ReLU(inplace=True)\n",
            "    (26): Conv2d(512, 512, kernel_size=(3, 3), stride=(1, 1), padding=(1, 1))\n",
            "    (27): ReLU(inplace=True)\n",
            "    (28): Conv2d(512, 512, kernel_size=(3, 3), stride=(1, 1), padding=(1, 1))\n",
            "    (29): ReLU(inplace=True)\n",
            "    (30): MaxPool2d(kernel_size=2, stride=2, padding=0, dilation=1, ceil_mode=False)\n",
            "  )\n",
            "  (avgpool): AdaptiveAvgPool2d(output_size=(7, 7))\n",
            "  (classifier): Sequential(\n",
            "    (0): Linear(in_features=25088, out_features=4096, bias=True)\n",
            "    (1): ReLU(inplace=True)\n",
            "    (2): Dropout(p=0.5, inplace=False)\n",
            "    (3): Linear(in_features=4096, out_features=4096, bias=True)\n",
            "    (4): ReLU(inplace=True)\n",
            "    (5): Dropout(p=0.5, inplace=False)\n",
            "    (6): Linear(in_features=4096, out_features=1000, bias=True)\n",
            "  )\n",
            ")\n"
          ],
          "name": "stdout"
        }
      ]
    },
    {
      "cell_type": "markdown",
      "metadata": {
        "id": "JDZ68s2A60Qa",
        "colab_type": "text"
      },
      "source": [
        "**Test with resnet**"
      ]
    },
    {
      "cell_type": "code",
      "metadata": {
        "id": "5Ho3fg2Bsuv8",
        "colab_type": "code",
        "outputId": "ae5dbc79-6ea0-4f5e-b7e4-6e6886fb793e",
        "colab": {
          "base_uri": "https://localhost:8080/",
          "height": 153
        }
      },
      "source": [
        "LR = 0.02         \n",
        "NUM_EPOCHS = 30     \n",
        "STEP_SIZE = 20\n",
        "NUM_CLASSES = 101\n",
        "BATCH_SIZE = 126\n",
        "# normalize function with mean and standard deviation\n",
        "transform = transforms.Compose([transforms.Resize(256),\n",
        "                                      transforms.CenterCrop(224),\n",
        "                                      transforms.ToTensor(),\n",
        "                                      transforms.Normalize( (0.485, 0.456, 0.406), (0.229, 0.224, 0.225))                                    \n",
        "])\n",
        "train_dataset= Caltech(DATA_DIR,'train',transform=transform)  # make dataset with custom transform (mean and std of imagenet)\n",
        "test_dataset= Caltech(DATA_DIR,'test',transform=transform)\n",
        "# Check dataset sizes\n",
        "print('Train Dataset: {}'.format(len(train_dataset)))\n",
        "print('Test Dataset: {}'.format(len(test_dataset)))\n",
        "train_indexes = [idx for idx in range(len(train_dataset)) if idx % 2==0]\n",
        "val_indexes=[i+1 for i in train_indexes]\n",
        "#train and val\n",
        "train_dataset=Subset(train_dataset,val_indexes)\n",
        "val_dataset=Subset(train_dataset,train_indexes)\n",
        "print('Training split: {}'.format(len(train_dataset)))\n",
        "print('Validation split: {}'.format(len(val_dataset)))\n",
        "#dataloader\n",
        "train_dataloader = DataLoader(train_dataset, batch_size=BATCH_SIZE, shuffle=True, num_workers=4, drop_last=True)\n",
        "test_dataloader = DataLoader(test_dataset, batch_size=BATCH_SIZE, shuffle=False, num_workers=4)\n",
        "val_dataloader = DataLoader(val_dataset, batch_size=BATCH_SIZE, shuffle=False, num_workers=4)\n",
        "\n",
        "resnet.fc=nn.Linear(512, NUM_CLASSES)\n",
        "vgg.classifier[-1]=nn.Linear(4096, NUM_CLASSES)"
      ],
      "execution_count": 0,
      "outputs": [
        {
          "output_type": "stream",
          "text": [
            "FOUND 101 CLASSES [accordion,airplanes..]\n",
            "Loaded 5784 Images and label\n",
            "FOUND 101 CLASSES [accordion,airplanes..]\n",
            "Loaded 2893 Images and label\n",
            "Train Dataset: 5784\n",
            "Test Dataset: 2893\n",
            "Training split: 2892\n",
            "Validation split: 2892\n"
          ],
          "name": "stdout"
        }
      ]
    },
    {
      "cell_type": "code",
      "metadata": {
        "id": "B1HHyZNSqlDz",
        "colab_type": "code",
        "outputId": "3bd67af4-52f3-4f51-dc9f-635c5200c8c7",
        "colab": {
          "base_uri": "https://localhost:8080/",
          "height": 1000
        }
      },
      "source": [
        "criterion = nn.CrossEntropyLoss() \n",
        "parameters_to_optimize = resnet.parameters() # all params\n",
        "optimizer = optim.SGD(parameters_to_optimize, lr=LR, momentum=MOMENTUM, weight_decay=WEIGHT_DECAY)\n",
        "scheduler = optim.lr_scheduler.StepLR(optimizer, step_size=STEP_SIZE, gamma=GAMMA)\n",
        "resnet = resnet.to(DEVICE) \n",
        "cudnn.benchmark\n",
        "best_model_resnet=train_and_validate(NUM_EPOCHS,resnet,train_dataloader,val_dataset,val_dataloader,optimizer,criterion,scheduler)\n",
        "accuracy=evaluate(best_model_resnet['model'],test_dataset,test_dataloader,'test')"
      ],
      "execution_count": 0,
      "outputs": [
        {
          "output_type": "stream",
          "text": [
            "\n",
            "epoch 1/30, LR = [0.02]  loss : 2.8487802147865295 validation score: 0.7078146611341632  BEST MODEL found!\n",
            "epoch 2/30, LR = [0.02]  loss : 0.6694851856340062 validation score: 0.8734439834024896  BEST MODEL found!\n",
            "epoch 3/30, LR = [0.02]  loss : 0.17020560157569972 validation score: 0.9121715076071922  BEST MODEL found!\n",
            "epoch 4/30, LR = [0.02]  loss : 0.05504009423946792 validation score: 0.9177040110650069  BEST MODEL found!\n",
            "epoch 5/30, LR = [0.02]  loss : 0.025027294177562 validation score: 0.9256569847856155  BEST MODEL found!\n",
            "epoch 6/30, LR = [0.02]  loss : 0.014805962289260193 validation score: 0.9270401106500692  BEST MODEL found!\n",
            "epoch 7/30, LR = [0.02]  loss : 0.011133433192629705 validation score: 0.9242738589211619 \n",
            "epoch 8/30, LR = [0.02]  loss : 0.00903661233711649 validation score: 0.9298063623789765  BEST MODEL found!\n",
            "epoch 9/30, LR = [0.02]  loss : 0.0077403674579479475 validation score: 0.9291147994467497 \n",
            "epoch 10/30, LR = [0.02]  loss : 0.006755170052532445 validation score: 0.9343015214384509  BEST MODEL found!\n",
            "epoch 11/30, LR = [0.02]  loss : 0.005994507788934491 validation score: 0.9304979253112033 \n",
            "epoch 12/30, LR = [0.02]  loss : 0.005518850997429003 validation score: 0.931881051175657 \n",
            "epoch 13/30, LR = [0.02]  loss : 0.0049747168827293945 validation score: 0.9311894882434302 \n",
            "epoch 14/30, LR = [0.02]  loss : 0.004568059431304308 validation score: 0.9311894882434302 \n",
            "epoch 15/30, LR = [0.02]  loss : 0.004292370402254164 validation score: 0.9308437067773168 \n",
            "epoch 16/30, LR = [0.02]  loss : 0.003849303762597794 validation score: 0.9311894882434302 \n",
            "epoch 17/30, LR = [0.02]  loss : 0.003668967443941669 validation score: 0.9315352697095436 \n",
            "epoch 18/30, LR = [0.02]  loss : 0.0036597805817357516 validation score: 0.9304979253112033 \n",
            "epoch 19/30, LR = [0.02]  loss : 0.0033935179447077894 validation score: 0.931881051175657 \n",
            "epoch 20/30, LR = [0.02]  loss : 0.003229987225495279 validation score: 0.9311894882434302 \n",
            "epoch 21/30, LR = [0.002]  loss : 0.0029694586886431684 validation score: 0.931881051175657 \n",
            "epoch 22/30, LR = [0.002]  loss : 0.003075212621214715 validation score: 0.9308437067773168 \n",
            "epoch 23/30, LR = [0.002]  loss : 0.0030360738111829214 validation score: 0.9329183955739973 \n",
            "epoch 24/30, LR = [0.002]  loss : 0.002968169568868523 validation score: 0.931881051175657 \n",
            "epoch 25/30, LR = [0.002]  loss : 0.0029787851963192225 validation score: 0.9343015214384509 \n",
            "epoch 26/30, LR = [0.002]  loss : 0.0030267180091786113 validation score: 0.9311894882434302 \n",
            "epoch 27/30, LR = [0.002]  loss : 0.0029612925718538463 validation score: 0.9315352697095436 \n",
            "epoch 28/30, LR = [0.002]  loss : 0.002985047081231394 validation score: 0.931881051175657 \n",
            "epoch 29/30, LR = [0.002]  loss : 0.0029466069536283612 validation score: 0.9322268326417704 \n",
            "epoch 30/30, LR = [0.002]  loss : 0.0029693162597885184 validation score: 0.9298063623789765 "
          ],
          "name": "stdout"
        },
        {
          "output_type": "display_data",
          "data": {
            "image/png": "[encoded data removed]",
            "text/plain": [
              "<Figure size 720x576 with 1 Axes>"
            ]
          },
          "metadata": {
            "tags": []
          }
        },
        {
          "output_type": "display_data",
          "data": {
            "image/png": "[encoded data removed]",
            "text/plain": [
              "<Figure size 720x576 with 1 Axes>"
            ]
          },
          "metadata": {
            "tags": []
          }
        },
        {
          "output_type": "stream",
          "text": [
            " test score: 0.9339785689595576 "
          ],
          "name": "stdout"
        }
      ]
    },
    {
      "cell_type": "markdown",
      "metadata": {
        "id": "FJpgLr0HgVBA",
        "colab_type": "text"
      },
      "source": [
        "this "
      ]
    }
  ]
}