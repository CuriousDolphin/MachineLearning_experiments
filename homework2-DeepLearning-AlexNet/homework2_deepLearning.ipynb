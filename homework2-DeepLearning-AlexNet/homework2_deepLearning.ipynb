{
 "cells": [
  {
   "cell_type": "markdown",
   "metadata": {
    "colab_type": "text",
    "id": "UG4_rnmOo2a3"
   },
   "source": [
    "# **Ivan Murabito**\n",
    "# Homework 2 DeepLearning and experiments on AlexNet\n",
    "\n",
    "\n"
   ]
  },
  {
   "cell_type": "markdown",
   "metadata": {
    "colab_type": "text",
    "id": "Sj4aEl6iE4a7"
   },
   "source": [
    "# Introduction\n",
    "\n",
    "The purpose of this homework is to analyze and test the **AlexNet** convolutional network through various experiments;\n",
    "\n",
    "- plain training and test\n",
    "\n",
    "- transfer learning\n",
    "\n",
    "- data augmentation\n",
    "\n",
    "\n",
    "\n",
    "- **AlexNet**: created in 2012 by Alex Krizhevsky,\n",
    "  it was the first convolutional network to use the RELU as an activation function, to add non-linearity and improve   its speed,\n",
    "  and one of the first **deep** cnn to have important results in 2012 imageNet challenge.\n",
    "  follow the classical convolutional network scheme:\n",
    "\n",
    "  some conv layer followed by a pooling, and in the end of the network the FC layers.\n",
    "\n",
    "  In particular AlexNet has 8 layers — 5 convolutional and 3 fully-connected, and about 62 Million parameters.\n",
    "\n",
    "\n",
    "- **Dataset**: in this homework we use the caltech-101 dataset \n",
    "  which, as the name implies, has 102 classes and about 9k images including different objects.\n",
    "\n"
   ]
  },
  {
   "cell_type": "markdown",
   "metadata": {
    "colab_type": "text",
    "id": "ll-rvICL4UtS"
   },
   "source": [
    "# Training from scratch"
   ]
  },
  {
   "cell_type": "markdown",
   "metadata": {
    "colab_type": "text",
    "id": "c9QcGnGPdX2C"
   },
   "source": [
    "\n",
    "### Install requirements\n",
    "\n"
   ]
  },
  {
   "cell_type": "code",
   "execution_count": 2,
   "metadata": {
    "colab": {
     "base_uri": "https://localhost:8080/",
     "height": 54
    },
    "colab_type": "code",
    "id": "i0ojXHuuePqw",
    "outputId": "a6d87e1a-8959-4285-932b-755f51b92c6a"
   },
   "outputs": [
    {
     "name": "stdout",
     "output_type": "stream",
     "text": [
      "Drive already mounted at /content/drive; to attempt to forcibly remount, call drive.mount(\"/content/drive\", force_remount=True).\n"
     ]
    }
   ],
   "source": [
    "from google.colab import drive\n",
    "drive.mount('/content/drive')"
   ]
  },
  {
   "cell_type": "code",
   "execution_count": 3,
   "metadata": {
    "colab": {
     "base_uri": "https://localhost:8080/",
     "height": 207
    },
    "colab_type": "code",
    "id": "k9O3aM3Tb28q",
    "outputId": "0bb2a96d-17a9-4b27-ffd0-1603577283f2"
   },
   "outputs": [
    {
     "name": "stdout",
     "output_type": "stream",
     "text": [
      "Requirement already satisfied: torch==1.3.1 in /usr/local/lib/python3.6/dist-packages (1.3.1)\n",
      "Requirement already satisfied: numpy in /usr/local/lib/python3.6/dist-packages (from torch==1.3.1) (1.17.4)\n",
      "Requirement already satisfied: torchvision==0.4.2 in /usr/local/lib/python3.6/dist-packages (0.4.2)\n",
      "Requirement already satisfied: numpy in /usr/local/lib/python3.6/dist-packages (from torchvision==0.4.2) (1.17.4)\n",
      "Requirement already satisfied: pillow>=4.1.1 in /usr/local/lib/python3.6/dist-packages (from torchvision==0.4.2) (6.2.1)\n",
      "Requirement already satisfied: six in /usr/local/lib/python3.6/dist-packages (from torchvision==0.4.2) (1.12.0)\n",
      "Requirement already satisfied: torch==1.3.1 in /usr/local/lib/python3.6/dist-packages (from torchvision==0.4.2) (1.3.1)\n",
      "Requirement already satisfied: Pillow-SIMD in /usr/local/lib/python3.6/dist-packages (6.0.0.post0)\n",
      "Requirement already satisfied: tqdm in /usr/local/lib/python3.6/dist-packages (4.28.1)\n",
      "Requirement already up-to-date: pillow in /usr/local/lib/python3.6/dist-packages (6.2.1)\n"
     ]
    }
   ],
   "source": [
    "!pip3 install 'torch==1.3.1'\n",
    "!pip3 install 'torchvision==0.4.2'\n",
    "!pip3 install 'Pillow-SIMD'\n",
    "!pip3 install 'tqdm'\n",
    "!pip3 install --upgrade 'pillow'"
   ]
  },
  {
   "cell_type": "markdown",
   "metadata": {
    "colab_type": "text",
    "id": "fo942LMOdlh4"
   },
   "source": [
    "\n",
    "### Import libraries\n",
    "\n",
    "In this section i've installed and imported all stuffs needed for this homework (numpy,matplot,pil,torchvision etc etc)\n"
   ]
  },
  {
   "cell_type": "code",
   "execution_count": 0,
   "metadata": {
    "colab": {},
    "colab_type": "code",
    "id": "DokFOdD1dJEl"
   },
   "outputs": [],
   "source": [
    "import os\n",
    "import logging\n",
    "\n",
    "import torch\n",
    "import torch.nn as nn\n",
    "import torch.optim as optim\n",
    "from torch.utils.data import Subset, DataLoader\n",
    "from torch.backends import cudnn\n",
    "\n",
    "import torchvision\n",
    "from torchvision import transforms\n",
    "from torchvision.models import alexnet\n",
    "\n",
    "from PIL import Image\n",
    "from tqdm import tqdm\n",
    "\n",
    "import pandas as pd \n",
    "import numpy as np\n",
    "from matplotlib.pyplot import imshow\n",
    "import matplotlib.pyplot as plt\n",
    "\n",
    "from copy import deepcopy\n"
   ]
  },
  {
   "cell_type": "markdown",
   "metadata": {
    "colab_type": "text",
    "id": "OIDLJuIXK_vh"
   },
   "source": [
    "### Set Arguments\n",
    "\n",
    "Block of given arguments (LEARNING RATE,STEP_SIZE,EPOCHS etc)\n"
   ]
  },
  {
   "cell_type": "code",
   "execution_count": 0,
   "metadata": {
    "colab": {},
    "colab_type": "code",
    "id": "d5PkYfqfK_SA"
   },
   "outputs": [],
   "source": [
    "DEVICE = 'cuda' # 'cuda' or 'cpu'\n",
    "\n",
    "NUM_CLASSES = 101 # 101 + 1: There is am extra Background class that should be removed \n",
    "\n",
    "BATCH_SIZE = 256     # Higher batch sizes allows for larger learning rates. An empirical heuristic suggests that, when changing\n",
    "                     # the batch size, learning rate should change by the same factor to have comparable results\n",
    "LR_TEST = 0.05\n",
    "LR_TEST_2=0.001\n",
    "LR = 0.001           # The initial Learning Rate\n",
    "MOMENTUM = 0.9       # Hyperparameter for SGD, keep this at 0.9 when using SGD\n",
    "WEIGHT_DECAY = 5e-5  # Regularization, you can keep this at the default\n",
    "\n",
    "NUM_EPOCHS_TEST = 70\n",
    "NUM_EPOCHS = 30      # Total number of training epochs (iterations over dataset)\n",
    "STEP_SIZE_TEST = 35  # How many epochs before decreasing learning rate (if using a step-down policy)\n",
    "STEP_SIZE = 20\n",
    "GAMMA = 0.1          # Multiplicative factor for learning rate step-down\n",
    "\n",
    "LOG_FREQUENCY = 1"
   ]
  },
  {
   "cell_type": "markdown",
   "metadata": {
    "colab_type": "text",
    "id": "9g1b600qcZ8W"
   },
   "source": [
    "### Define Data Preprocessing\n",
    "\n",
    "\n",
    "I defined the transformations to apply to images in the dataset (both training and evaluation),\n",
    "at first:\n",
    "\n",
    "\n",
    "*   resize (256)\n",
    "*   center-crop (224)\n",
    "*   to Tensor\n",
    "*   normalize (mean=.5 .5 .5 ) (std=.5 .5 .5)\n",
    "\n",
    "\n"
   ]
  },
  {
   "cell_type": "code",
   "execution_count": 0,
   "metadata": {
    "colab": {},
    "colab_type": "code",
    "id": "QUDdw4j2H0Mc"
   },
   "outputs": [],
   "source": [
    "# Define transforms for training phase\n",
    "train_transform = transforms.Compose([transforms.Resize(256),      # Resizes short size of the PIL image to 256\n",
    "                                      transforms.CenterCrop(224),  # Crops a central square patch of the image\n",
    "                                                                   # 224 because torchvision's AlexNet needs a 224x224 input!\n",
    "                                                                   # Remember this when applying different transformations, otherwise you get an error\n",
    "                                      transforms.ToTensor(), # Turn PIL Image to torch.Tensor\n",
    "                                      transforms.Normalize((0.5, 0.5, 0.5), (0.5, 0.5, 0.5)) # Normalizes tensor with mean and standard deviation\n",
    "])\n",
    "# Define transforms for the evaluation phase\n",
    "eval_transform = transforms.Compose([transforms.Resize(256),\n",
    "                                      transforms.CenterCrop(224),\n",
    "                                      transforms.ToTensor(),\n",
    "                                      transforms.Normalize((0.5, 0.5, 0.5), (0.5, 0.5, 0.5))                                    \n",
    "])\n"
   ]
  },
  {
   "cell_type": "markdown",
   "metadata": {
    "colab_type": "text",
    "id": "tptGf9RxPgTp"
   },
   "source": [
    "### My custom dataset (Caltech) class"
   ]
  },
  {
   "cell_type": "markdown",
   "metadata": {
    "colab_type": "text",
    "id": "MIUnlbAWeG6n"
   },
   "source": [
    "\n",
    "I created my custom dataset class, starting from the one released.\n",
    "that load the images respectively from given train.txt and test.txt files.\n",
    "I created two new functions that help the creation of dataset\n",
    "\n",
    "- load_images(..)\n",
    "- find_classes(..)\n",
    "\n",
    "(easy to imagine their purpose :))\n",
    "\n",
    "the dataset class are:\n",
    "\n",
    "- init(..) : initial processes, when data are loaded (from txt in this case)\n",
    "- len(..) : return the size of data\n",
    "- getitem(..) : return data and label at orbitary index\n"
   ]
  },
  {
   "cell_type": "code",
   "execution_count": 0,
   "metadata": {
    "colab": {},
    "colab_type": "code",
    "id": "7RS6J20pHlUK"
   },
   "outputs": [],
   "source": [
    "from torchvision.datasets import VisionDataset\n",
    "\n",
    "from PIL import Image\n",
    "\n",
    "import os\n",
    "import os.path\n",
    "import sys\n",
    "\n",
    "TRAIN_PATH ='Homework2-Caltech101/train.txt'\n",
    "TEST_PATH ='Homework2-Caltech101/test.txt'\n",
    "\n",
    "\n",
    "def pil_loader(path):\n",
    "    # open path as file to avoid ResourceWarning (https://github.com/python-pillow/Pillow/issues/835)\n",
    "    with open(path, 'rb') as f:\n",
    "        img = Image.open(f)\n",
    "        return img.convert('RGB')\n",
    "def find_classes(txt_path):\n",
    "    classes=[]\n",
    "    f = open(txt_path)\n",
    "    for l in f.readlines():\n",
    "      x=l.split('/')\n",
    "      if(not x[0] in classes): \n",
    "        classes.append(x[0])\n",
    "    classes.remove('BACKGROUND_Google')\n",
    "    #classes.sort()\n",
    "    class_to_idx = {classes[i]: i for i in range(len(classes))}\n",
    "    print('FOUND {} CLASSES [{},{}..]'.format(len(classes),classes[0],classes[1]))\n",
    "    return classes, class_to_idx\n",
    "\n",
    "def load_images(root,txt_path,class_to_idx):\n",
    "    images=[]\n",
    "    f = open(txt_path)\n",
    "    for path in f.readlines():\n",
    "      label=path.split('/')[0]\n",
    "      if(label in class_to_idx):\n",
    "        image=(pil_loader(root+'/'+path.split('\\n')[0]),class_to_idx[label])\n",
    "        images.append(image)\n",
    "    print('Loaded {} Images and label'.format(len(images)))\n",
    "    return images\n",
    "      \n",
    "\n",
    "\n",
    "class Caltech(VisionDataset):\n",
    "    def __init__(self, root, split='train', transform=None, target_transform=None):\n",
    "        super(Caltech, self).__init__(root, transform=transform, target_transform=target_transform)\n",
    "\n",
    "        self.split = split # This defines the split you are going to use\n",
    "                           # (split files are called 'train.txt' and 'test.txt')\n",
    "        if(split == 'train'):\n",
    "          self.txt_path=TRAIN_PATH\n",
    "        if(split == 'test'):\n",
    "          self.txt_path=TEST_PATH\n",
    "\n",
    "        self.classes,self.class_to_idx=find_classes(self.txt_path) \n",
    "\n",
    "        self.samples=load_images(root,self.txt_path,self.class_to_idx) \n",
    "        '''\n",
    "        - Here you should implement the logic for reading the splits files and accessing elements\n",
    "        - If the RAM size allows it, it is faster to store all data in memory\n",
    "        - PyTorch Dataset classes use indexes to read elements\n",
    "        - You should provide a way for the __getitem__ method to access the image-label pair\n",
    "          through the index\n",
    "        - Labels should start from 0, so for Caltech you will have lables 0...100 (excluding the background class) \n",
    "        '''\n",
    "\n",
    "    def __getitem__(self, index):\n",
    "        '''\n",
    "        __getitem__ should access an element through its index\n",
    "        Args:\n",
    "            index (int): Index\n",
    "\n",
    "        Returns:\n",
    "            tuple: (sample, target) where target is class_index of the target class.\n",
    "        '''\n",
    "\n",
    "         # Provide a way to access image and label via index\n",
    "         # Image should be a PIL Image\n",
    "         # label can be int\n",
    "\n",
    "        image,label =self.samples[index]\n",
    "        # Applies preprocessing when accessing the image\n",
    "        if self.transform is not None:\n",
    "            image = self.transform(image)\n",
    "        \n",
    "        return image, label\n",
    "\n",
    "    def __len__(self):\n",
    "        '''\n",
    "        The __len__ method returns the length of the dataset\n",
    "        It is mandatory, as this is used by several other components\n",
    "        '''\n",
    "        length = len(self.samples)\n",
    "        return length"
   ]
  },
  {
   "cell_type": "markdown",
   "metadata": {
    "colab_type": "text",
    "id": "9QJ_5BrBRiZM"
   },
   "source": [
    "### Useful function"
   ]
  },
  {
   "cell_type": "markdown",
   "metadata": {
    "colab_type": "text",
    "id": "2E-hYITifMvg"
   },
   "source": [
    "I wrote several usefull functions that I will use throughout the homework\n",
    "in particular\n",
    "\n",
    "- evaluate(..): test a model on given dataset\n",
    "- plot_graph(..)\n",
    "- train_and_validate(..): very useful function; given a model, optimizer, n_epoch and datasets and dataloaders\n",
    "\n",
    "\n",
    "\n",
    "train the model and evaluate it on each epoch on validation set.\n",
    "\n",
    "at the end (after last epoch) plot two graphs : loss / epochs accuracy / epochs\n",
    "and returns the best model found"
   ]
  },
  {
   "cell_type": "code",
   "execution_count": 0,
   "metadata": {
    "colab": {},
    "colab_type": "code",
    "id": "hVCLMBdKRRll"
   },
   "outputs": [],
   "source": [
    "def evaluate(model,dataset,dataloader,type_='Validation'):\n",
    "  model = model.to(DEVICE) # this will bring the network to GPU if DEVICE is cuda\n",
    "  cudnn.benchmark # Calling this optimizes runtime\n",
    "  model.train(False) # Set Network to evaluation mode\n",
    "  accuracy=0\n",
    "  running_corrects = 0\n",
    "  for images, labels in dataloader:\n",
    "    images = images.to(DEVICE)\n",
    "    labels = labels.to(DEVICE)\n",
    "    # Forward Pass\n",
    "    outputs = model(images)\n",
    "    # Get predictions\n",
    "    _, preds = torch.max(outputs.data, 1)\n",
    "    # Update Corrects\n",
    "    running_corrects += torch.sum(preds == labels.data).data.item()\n",
    "  # Calculate Accuracy\n",
    "  accuracy = running_corrects / float(len(dataset))\n",
    "  print(' score: {:.4f} '.format(accuracy),end = '')\n",
    "  return accuracy\n",
    "  \n",
    "def plot_graph(x,y,x_label,y_label):\n",
    "  plt.figure(figsize=((10,8)))\n",
    "  plt.plot(x,y, color='blue')\n",
    "  plt.xlabel(x_label)\n",
    "  plt.ylabel(y_label)\n",
    "  plt.show() \n",
    "\n",
    "def train_and_validate(n_epoch,model,train_dataloader,val_dataset,val_dataloader,optimizer,criterion,scheduler):\n",
    "  '''\n",
    "  train the model and validate it on each epoch, \n",
    "  return the model with best score on validation set\n",
    "  '''\n",
    "  model = model.to(DEVICE) # this will bring the network to GPU if DEVICE is cuda\n",
    "  current_step = 0\n",
    "  best_model={'accuracy':0}\n",
    "  accuracies=[] # accuracy for epoch\n",
    "  loss_=[]\n",
    "  # Start iterating over the epochs\n",
    "  \n",
    "  for epoch in range(n_epoch):\n",
    "    medium_loss=0\n",
    "    count_step=0\n",
    "    print('\\nepoch {}/{}, LR = {} '.format(epoch+1, n_epoch, scheduler.get_lr()),end = '')\n",
    "    # Iterate over the dataset\n",
    "    for images, labels in train_dataloader:\n",
    "      # Bring data over the device of choice\n",
    "      images = images.to(DEVICE)\n",
    "      labels = labels.to(DEVICE)\n",
    "      model.train() # Sets module in training mode\n",
    "      # PyTorch, by default, accumulates gradients after each backward pass\n",
    "      # We need to manually set the gradients to zero before starting a new iteration\n",
    "      optimizer.zero_grad() # Zero-ing the gradients\n",
    "      # Forward pass to the network\n",
    "      outputs = model(images)\n",
    "      # Compute loss based on output and ground truth\n",
    "      loss = criterion(outputs, labels)\n",
    "      # Log loss\n",
    "      #if current_step % LOG_FREQUENCY == 0:\n",
    "        #print('Step {}, Loss {}'.format(current_step, loss.item()))\n",
    "      medium_loss+=loss.item()\n",
    "      count_step+=1\n",
    "      # Compute gradients for each layer and update weights\n",
    "      loss.backward()  # backward pass: computes gradients\n",
    "      optimizer.step() # update weights based on accumulated gradients\n",
    "      current_step += 1\n",
    "    medium_loss=medium_loss/count_step\n",
    "    loss_.append(medium_loss)\n",
    "    print(' loss : {:.4f}'.format(medium_loss),end = '')\n",
    "    accuracy=evaluate(model,val_dataset,val_dataloader,type_='validation')\n",
    "    accuracies.append(accuracy)\n",
    "    if(accuracy > best_model['accuracy']):\n",
    "      print(' BEST!',end='')\n",
    "      best_model['accuracy']=accuracy\n",
    "      best_model['model']=deepcopy(model)\n",
    "    scheduler.step()\n",
    "  best_model['accuracies']=accuracies\n",
    "  #ACCURACY/EPOCH GRAPH\n",
    "  plot_graph(range(n_epoch),accuracies,'Epoch','Accuracy') \n",
    "  #loss/epoch graph\n",
    "  plot_graph(range(n_epoch),loss_,'Epoch','medium loss')\n",
    "\n",
    "  return best_model"
   ]
  },
  {
   "cell_type": "markdown",
   "metadata": {
    "colab_type": "text",
    "id": "hdWq88qdl1yG"
   },
   "source": [
    "### Prepare Dataset\n",
    "in this section i loaded two dataset from .txts; train and test (5784 images for train and 2893 for test)\n",
    "nb: \n",
    "obviously the images are balanced for each class."
   ]
  },
  {
   "cell_type": "code",
   "execution_count": 29,
   "metadata": {
    "colab": {
     "base_uri": "https://localhost:8080/",
     "height": 119
    },
    "colab_type": "code",
    "id": "QfVq_uDHLbsR",
    "outputId": "666dbe3c-c625-45fc-b373-3a83cf69b7ae"
   },
   "outputs": [
    {
     "name": "stdout",
     "output_type": "stream",
     "text": [
      "FOUND 101 CLASSES [accordion,airplanes..]\n",
      "Loaded 5784 Images and label\n",
      "FOUND 101 CLASSES [accordion,airplanes..]\n",
      "Loaded 2893 Images and label\n",
      "Train Dataset: 5784\n",
      "Test Dataset: 2893\n"
     ]
    }
   ],
   "source": [
    "# Clone github repository with data\n",
    "if not os.path.isdir('./Homework2-Caltech101'):\n",
    "  !git clone https://github.com/MachineLearning2020/Homework2-Caltech101.git\n",
    "\n",
    "DATA_DIR = 'Homework2-Caltech101/101_ObjectCategories'\n",
    "\n",
    "# Prepare Pytorch train/test Datasets\n",
    "train_dataset= Caltech(DATA_DIR,'train',transform=train_transform)\n",
    "test_dataset= Caltech(DATA_DIR,'test',transform=eval_transform)\n",
    "\n",
    "# Check dataset sizes\n",
    "print('Train Dataset: {}'.format(len(train_dataset)))\n",
    "print('Test Dataset: {}'.format(len(test_dataset)))"
   ]
  },
  {
   "cell_type": "markdown",
   "metadata": {
    "colab_type": "text",
    "id": "_kfgBVlkarao"
   },
   "source": [
    "### Split train into train and validation\n",
    "\n",
    "\n"
   ]
  },
  {
   "cell_type": "markdown",
   "metadata": {
    "colab_type": "text",
    "id": "JuAAT_oqmWMY"
   },
   "source": [
    "I've splitted train in train and validation (each 2892 images),\n",
    "to maintain the balance I used odd indexes for validation and even for training.\n",
    "(nb: this trick work only because the images are ordered)\n",
    "for all the homework these datasets will be used.\n"
   ]
  },
  {
   "cell_type": "code",
   "execution_count": 30,
   "metadata": {
    "colab": {
     "base_uri": "https://localhost:8080/",
     "height": 51
    },
    "colab_type": "code",
    "id": "geyCdElGPLDu",
    "outputId": "6ac86410-9c43-40c3-c58b-755452f7ed06"
   },
   "outputs": [
    {
     "name": "stdout",
     "output_type": "stream",
     "text": [
      "Training split: 2892\n",
      "Validation split: 2892\n"
     ]
    }
   ],
   "source": [
    "train_indexes = [idx for idx in range(len(train_dataset)) if idx % 2==0]\n",
    "val_indexes=[i+1 for i in train_indexes]\n",
    "\n",
    "val_dataset=Subset(train_dataset,val_indexes)\n",
    "train_dataset=Subset(train_dataset,train_indexes)\n",
    "print('Training split: {}'.format(len(train_dataset)))\n",
    "print('Validation split: {}'.format(len(val_dataset)))\n",
    "\n"
   ]
  },
  {
   "cell_type": "markdown",
   "metadata": {
    "colab_type": "text",
    "id": "FYEDQ7Z21ldN"
   },
   "source": [
    "### Prepare Dataloaders"
   ]
  },
  {
   "cell_type": "markdown",
   "metadata": {
    "colab_type": "text",
    "id": "iQyUfNh7rCas"
   },
   "source": [
    "from pytorch docs:\n",
    "\n",
    "`Data loader. Combines a dataset and a sampler, and provides an iterable over the given dataset.`\n",
    "\n",
    "Dataloaders help to put in ram a batch of data from dataset, help with parallelization and provide some usefull tools like shuffling and more.\n",
    "there is a dataloader for each split (train,test,val)\n"
   ]
  },
  {
   "cell_type": "code",
   "execution_count": 0,
   "metadata": {
    "colab": {},
    "colab_type": "code",
    "id": "VriRw8SI1nle"
   },
   "outputs": [],
   "source": [
    "# Dataloaders iterate over pytorch datasets and transparently provide useful functions (e.g. parallelization and shuffling)\n",
    "train_dataloader = DataLoader(train_dataset, batch_size=BATCH_SIZE, shuffle=True, num_workers=4, drop_last=True)\n",
    "test_dataloader = DataLoader(test_dataset, batch_size=BATCH_SIZE, shuffle=False, num_workers=4)\n",
    "val_dataloader = DataLoader(val_dataset, batch_size=BATCH_SIZE, shuffle=False, num_workers=4)\n"
   ]
  },
  {
   "cell_type": "markdown",
   "metadata": {
    "colab_type": "text",
    "id": "gbZ1t5Qs2z4j"
   },
   "source": [
    "### Prepare Network"
   ]
  },
  {
   "cell_type": "markdown",
   "metadata": {
    "colab_type": "text",
    "id": "E5NETygqsI4t"
   },
   "source": [
    "- Load the Alexnet (pytorch implementation) \n",
    "- change fc layer from 1000 output to 101 output (caltech classes)"
   ]
  },
  {
   "cell_type": "code",
   "execution_count": 0,
   "metadata": {
    "colab": {},
    "colab_type": "code",
    "id": "exHUjtXa22DN"
   },
   "outputs": [],
   "source": [
    "net = alexnet() # Loading AlexNet model\n",
    "# AlexNet has 1000 output neurons, corresponding to the 1000 ImageNet's classes\n",
    "# We need 101 outputs for Caltech-101\n",
    "net.classifier[6] = nn.Linear(4096, NUM_CLASSES) # nn.Linear in pytorch is a fully connected layer\n",
    "                                                 # The convolutional layer is nn.Conv2d\n",
    "# We just changed the last layer of AlexNet with a new fully connected layer with 101 outputs\n",
    "# It is mandatory to study torchvision.models.alexnet source code"
   ]
  },
  {
   "cell_type": "markdown",
   "metadata": {
    "colab_type": "text",
    "id": "KEyL3H_R4qCf"
   },
   "source": [
    "### Prepare Training"
   ]
  },
  {
   "cell_type": "markdown",
   "metadata": {
    "colab_type": "text",
    "id": "yJNdKRo8sjWp"
   },
   "source": [
    "Define:\n",
    "\n",
    "\n",
    "*   criterion: cross entropy\n",
    "*   param to oprimize: at firsts step of homework i will optimize all params of network (net.parameters())\n",
    "*   optimizer: the optimizer update the weights based on the loss,in this case is used SGD with momentum\n",
    "*   scheduler : dynamically change the LR \n",
    "\n"
   ]
  },
  {
   "cell_type": "code",
   "execution_count": 0,
   "metadata": {
    "colab": {},
    "colab_type": "code",
    "id": "9sjq00G94tSc"
   },
   "outputs": [],
   "source": [
    "# Define loss function\n",
    "criterion = nn.CrossEntropyLoss() # for classification, we use Cross Entropy\n",
    "# Choose parameters to optimize\n",
    "# To access a different set of parameters, you have to access submodules of AlexNet\n",
    "# (nn.Module objects, like AlexNet, implement the Composite Pattern)\n",
    "# e.g.: parameters of the fully connected layers: net.classifier.parameters()\n",
    "# e.g.: parameters of the convolutional layers: look at alexnet's source code ;) \n",
    "parameters_to_optimize = net.parameters() # In this case we optimize over all the parameters of AlexNet\n",
    "# Define optimizer\n",
    "# An optimizer updates the weights based on loss\n",
    "# We use SGD with momentum\n",
    "optimizer = optim.SGD(parameters_to_optimize, lr=LR_TEST, momentum=MOMENTUM, weight_decay=WEIGHT_DECAY)\n",
    "# Define scheduler\n",
    "# A scheduler dynamically changes learning rate\n",
    "# The most common schedule is the step(-down), which multiplies learning rate by gamma every STEP_SIZE epochs\n",
    "scheduler = optim.lr_scheduler.StepLR(optimizer, step_size=STEP_SIZE_TEST, gamma=GAMMA)"
   ]
  },
  {
   "cell_type": "markdown",
   "metadata": {
    "colab_type": "text",
    "id": "MUdZTb24QQNi"
   },
   "source": [
    "## Train"
   ]
  },
  {
   "cell_type": "markdown",
   "metadata": {
    "colab_type": "text",
    "id": "8jnM80MUu6m0"
   },
   "source": [
    "\n",
    "To find a good model I didn't put all the parameters to optimize in a double/triple for (like a gridSearch)\n",
    "but I did several experiments analyzing the progress of each model, first modifying the learning rate (the one given to me was too small, especially after splitting the train in train + validation)\n",
    "and then the step size and the number of epochs.\n",
    "for each epoch the model is evaluated on validation set.\n",
    "the printed output below show the epoch,loss,val_score\n",
    "at the end two graphs showing the trend of these variables over the epochs.\n",
    "the printed output below show (..one of) the best model that i found over experiments:\n",
    "\n",
    "- **LR:0.05**\n",
    "\n",
    "- **50 epochs**\n",
    "\n",
    "- **step size:35** \n",
    "\n",
    "\n"
   ]
  },
  {
   "cell_type": "code",
   "execution_count": 34,
   "metadata": {
    "colab": {
     "base_uri": "https://localhost:8080/",
     "height": 1000
    },
    "colab_type": "code",
    "id": "JBOPYZwTQSWV",
    "outputId": "2f607874-b421-4905-9a69-bd7afe6baea7"
   },
   "outputs": [
    {
     "name": "stdout",
     "output_type": "stream",
     "text": [
      "\n",
      "epoch 1/50, LR = [0.05]  loss : 4.5911 score: 0.0923  BEST!\n",
      "epoch 2/50, LR = [0.05]  loss : 4.3924 score: 0.0923 \n",
      "epoch 3/50, LR = [0.05]  loss : 4.2419 score: 0.0930  BEST!\n",
      "epoch 4/50, LR = [0.05]  loss : 4.1754 score: 0.0972  BEST!\n",
      "epoch 5/50, LR = [0.05]  loss : 4.1184 score: 0.1145  BEST!\n",
      "epoch 6/50, LR = [0.05]  loss : 4.0238 score: 0.1957  BEST!\n",
      "epoch 7/50, LR = [0.05]  loss : 3.7824 score: 0.2258  BEST!\n",
      "epoch 8/50, LR = [0.05]  loss : 3.6626 score: 0.2192 \n",
      "epoch 9/50, LR = [0.05]  loss : 3.4860 score: 0.2749  BEST!\n",
      "epoch 10/50, LR = [0.05]  loss : 3.2764 score: 0.2988  BEST!\n",
      "epoch 11/50, LR = [0.05]  loss : 3.2311 score: 0.2932 \n",
      "epoch 12/50, LR = [0.05]  loss : 3.0501 score: 0.2828 \n",
      "epoch 13/50, LR = [0.05]  loss : 2.8514 score: 0.3461  BEST!\n",
      "epoch 14/50, LR = [0.05]  loss : 3.1087 score: 0.2943 \n",
      "epoch 15/50, LR = [0.05]  loss : 3.0103 score: 0.3513  BEST!\n",
      "epoch 16/50, LR = [0.05]  loss : 2.6146 score: 0.3828  BEST!\n",
      "epoch 17/50, LR = [0.05]  loss : 2.4033 score: 0.3987  BEST!\n",
      "epoch 18/50, LR = [0.05]  loss : 2.1470 score: 0.4163  BEST!\n",
      "epoch 19/50, LR = [0.05]  loss : 2.0203 score: 0.4260  BEST!\n",
      "epoch 20/50, LR = [0.05]  loss : 1.8580 score: 0.4575  BEST!\n",
      "epoch 21/50, LR = [0.05]  loss : 1.7648 score: 0.4616  BEST!\n",
      "epoch 22/50, LR = [0.05]  loss : 1.6093 score: 0.4651  BEST!\n",
      "epoch 23/50, LR = [0.05]  loss : 1.3483 score: 0.4799  BEST!\n",
      "epoch 24/50, LR = [0.05]  loss : 1.0761 score: 0.4810  BEST!\n",
      "epoch 25/50, LR = [0.05]  loss : 0.9089 score: 0.4858  BEST!\n",
      "epoch 26/50, LR = [0.05]  loss : 0.7496 score: 0.4876  BEST!\n",
      "epoch 27/50, LR = [0.05]  loss : 0.7473 score: 0.4869 \n",
      "epoch 28/50, LR = [0.05]  loss : 0.6576 score: 0.4716 \n",
      "epoch 29/50, LR = [0.05]  loss : 0.5754 score: 0.4910  BEST!\n",
      "epoch 30/50, LR = [0.05]  loss : 0.5936 score: 0.5017  BEST!\n",
      "epoch 31/50, LR = [0.05]  loss : 0.4770 score: 0.4893 \n",
      "epoch 32/50, LR = [0.05]  loss : 0.4728 score: 0.4889 \n",
      "epoch 33/50, LR = [0.05]  loss : 0.3331 score: 0.4962 \n",
      "epoch 34/50, LR = [0.05]  loss : 0.3262 score: 0.4990 \n",
      "epoch 35/50, LR = [0.05]  loss : 0.3117 score: 0.5010 \n",
      "epoch 36/50, LR = [0.005000000000000001]  loss : 0.2119 score: 0.5173  BEST!\n",
      "epoch 37/50, LR = [0.005000000000000001]  loss : 0.1397 score: 0.5315  BEST!\n",
      "epoch 38/50, LR = [0.005000000000000001]  loss : 0.0649 score: 0.5411  BEST!\n",
      "epoch 39/50, LR = [0.005000000000000001]  loss : 0.0455 score: 0.5425  BEST!\n",
      "epoch 40/50, LR = [0.005000000000000001]  loss : 0.0503 score: 0.5450  BEST!\n",
      "epoch 41/50, LR = [0.005000000000000001]  loss : 0.0291 score: 0.5422 \n",
      "epoch 42/50, LR = [0.005000000000000001]  loss : 0.0271 score: 0.5443 \n",
      "epoch 43/50, LR = [0.005000000000000001]  loss : 0.0259 score: 0.5436 \n",
      "epoch 44/50, LR = [0.005000000000000001]  loss : 0.0259 score: 0.5463  BEST!\n",
      "epoch 45/50, LR = [0.005000000000000001]  loss : 0.0300 score: 0.5439 \n",
      "epoch 46/50, LR = [0.005000000000000001]  loss : 0.0279 score: 0.5488  BEST!\n",
      "epoch 47/50, LR = [0.005000000000000001]  loss : 0.0259 score: 0.5488 \n",
      "epoch 48/50, LR = [0.005000000000000001]  loss : 0.0273 score: 0.5488 \n",
      "epoch 49/50, LR = [0.005000000000000001]  loss : 0.0229 score: 0.5488 \n",
      "epoch 50/50, LR = [0.005000000000000001]  loss : 0.0283 score: 0.5488 "
     ]
    },
    {
     "data": {
      "image/png": "[encoded data removed]",
      "text/plain": [
       "<Figure size 720x576 with 1 Axes>"
      ]
     },
     "metadata": {
      "tags": []
     },
     "output_type": "display_data"
    },
    {
     "data": {
      "image/png": "[encoded data removed]",
      "text/plain": [
       "<Figure size 720x576 with 1 Axes>"
      ]
     },
     "metadata": {
      "tags": []
     },
     "output_type": "display_data"
    }
   ],
   "source": [
    "# Train and evaluate with my custom function, return the best model found on all epochsa\n",
    "# print 2 graphs showing ho varies the accuracy and the loss trough the epochs\n",
    "best_model=train_and_validate(50,net,train_dataloader,val_dataset,val_dataloader,optimizer,criterion,scheduler)"
   ]
  },
  {
   "cell_type": "markdown",
   "metadata": {
    "colab_type": "text",
    "id": "UsHFI-GAJd69"
   },
   "source": [
    "## Test\n",
    "evaluate the best model on test set"
   ]
  },
  {
   "cell_type": "code",
   "execution_count": 35,
   "metadata": {
    "colab": {
     "base_uri": "https://localhost:8080/",
     "height": 34
    },
    "colab_type": "code",
    "id": "EO3HV5pqJg1o",
    "outputId": "ee9eeac5-b7f0-4933-a62b-991c07cf7c78"
   },
   "outputs": [
    {
     "name": "stdout",
     "output_type": "stream",
     "text": [
      " score: 0.5465 "
     ]
    }
   ],
   "source": [
    "net = best_model['model']\n",
    "net = net.to(DEVICE) # this will bring the network to GPU if DEVICE is cuda\n",
    "net.train(False) # Set Network to evaluation mode\n",
    "accuracy=evaluate(net,test_dataset,test_dataloader,type_='test set ')\n"
   ]
  },
  {
   "cell_type": "markdown",
   "metadata": {
    "colab_type": "text",
    "id": "6v4KH8uhgKPO"
   },
   "source": [
    "| LR            | EPOCH      | STEP       | LOSS    | MAX SCORE ON VALIDATION SET | SCORE ON TEST |\n",
    "| ------------- | ---------- | ---------- | ------- | --------------------------- | ------------- |\n",
    "| 0.1           | 30         | 20         | diverge |                             |               |\n",
    "| 0.05          | 60         | 20         | 0.34    | 0.47                        |               |\n",
    "| 0.05          | 40         | 10         | 3.9     | 0.12                        |               |\n",
    "| 0.05          | 50         | 35         | 0.02   | 0.55                        | 0.54          |\n",
    "| 0.01          | 40         | 25         | 0.37    | 0.34                        |\n",
    "|               |\n",
    "| 0.001 (stock) | 30 (stock) | 20 (stock) | 2.5     | 0.16                        |\n",
    "\n",
    "\n",
    "as you can see from the table there is a lot of difference in the results of the various tests with different hyperparameters.\n",
    "it can be noted, however, that the starting learning rate 0.001 is too small to converge in acceptable times/epochs.\n",
    "nb: i evaluated on test set only the best model that i found, all others models are evaluated (for each epochs) only on validation set, and the validation score refers only the best model in all iterations.\n",
    "instead the loss is the loss at the last epochs."
   ]
  },
  {
   "cell_type": "markdown",
   "metadata": {
    "colab_type": "text",
    "id": "zyUYFpRyl35w"
   },
   "source": [
    "# Transfer Learning\n",
    "\n",
    "in this section I do the same experiments as before but this time on the pretrained net (on imagenet). \n",
    "it can be seen that the pretrained network converges much much faster, so I preferred to use fewer epochs also to reduce the execution time!"
   ]
  },
  {
   "cell_type": "markdown",
   "metadata": {
    "colab_type": "text",
    "id": "IAzqHOPhpij1"
   },
   "source": [
    "### Prepare dataset with new transform (mean and std of imageNet)\n",
    "\n",
    "the procedure is the same as before but this time in the normalize function (into transforms) i use mean and std of imagenet:\n",
    "\n",
    "*   mean: (0.485, 0.456, 0.406),\n",
    "*   std:   (0.229, 0.224, 0.225)\n",
    "\n",
    "\n",
    "\n"
   ]
  },
  {
   "cell_type": "code",
   "execution_count": 38,
   "metadata": {
    "colab": {
     "base_uri": "https://localhost:8080/",
     "height": 153
    },
    "colab_type": "code",
    "id": "aFI_hECqmEzY",
    "outputId": "261b12cf-ac8e-4fe2-97e1-e2bfacf5c2b8"
   },
   "outputs": [
    {
     "name": "stdout",
     "output_type": "stream",
     "text": [
      "FOUND 101 CLASSES [accordion,airplanes..]\n",
      "Loaded 5784 Images and label\n",
      "FOUND 101 CLASSES [accordion,airplanes..]\n",
      "Loaded 2893 Images and label\n",
      "Train Dataset: 5784\n",
      "Test Dataset: 2893\n",
      "Training split: 2892\n",
      "Validation split: 2892\n"
     ]
    }
   ],
   "source": [
    "# params\n",
    "LR = 0.01           # The initial Learning Rate\n",
    "NUM_EPOCHS = 20      # Total number of training epochs (iterations over dataset)\n",
    "STEP_SIZE = 15\n",
    "\n",
    "# normalize function with mean and standard deviation of imagenet\n",
    "alex_pretrained_transform = transforms.Compose([transforms.Resize(256),\n",
    "                                      transforms.CenterCrop(224),\n",
    "                                      transforms.ToTensor(),\n",
    "                                      transforms.Normalize( (0.485, 0.456, 0.406), (0.229, 0.224, 0.225))                                    \n",
    "])\n",
    "\n",
    "train_dataset= Caltech(DATA_DIR,'train',transform=alex_pretrained_transform)  # make dataset with custom transform (mean and std of imagenet)\n",
    "test_dataset= Caltech(DATA_DIR,'test',transform=alex_pretrained_transform)\n",
    "# Check dataset sizes\n",
    "print('Train Dataset: {}'.format(len(train_dataset)))\n",
    "print('Test Dataset: {}'.format(len(test_dataset)))\n",
    "train_indexes = [idx for idx in range(len(train_dataset)) if idx % 2==0]\n",
    "val_indexes=[i+1 for i in train_indexes]\n",
    "#train and val\n",
    "val_dataset=Subset(train_dataset,val_indexes)\n",
    "train_dataset=Subset(train_dataset,train_indexes)\n",
    "\n",
    "print('Training split: {}'.format(len(train_dataset)))\n",
    "print('Validation split: {}'.format(len(val_dataset)))\n",
    "#dataloader\n",
    "train_dataloader = DataLoader(train_dataset, batch_size=BATCH_SIZE, shuffle=True, num_workers=4, drop_last=True)\n",
    "test_dataloader = DataLoader(test_dataset, batch_size=BATCH_SIZE, shuffle=False, num_workers=4)\n",
    "val_dataloader = DataLoader(val_dataset, batch_size=BATCH_SIZE, shuffle=False, num_workers=4)"
   ]
  },
  {
   "cell_type": "markdown",
   "metadata": {
    "colab_type": "text",
    "id": "Sbn30c8HvS8K"
   },
   "source": [
    "### Load alexnet pretrained\n",
    "\n",
    "\n",
    "the procedure is the same as before ,except for:\n",
    "\n",
    "\n",
    "```\n",
    "net = alexnet(pretrained=True)\n",
    "```\n",
    "\n"
   ]
  },
  {
   "cell_type": "code",
   "execution_count": 0,
   "metadata": {
    "colab": {},
    "colab_type": "code",
    "id": "pEj47gQWqvWY"
   },
   "outputs": [],
   "source": [
    "net = alexnet(pretrained=True) # Loading AlexNet model pretrained\n",
    "net.classifier[6] = nn.Linear(4096, NUM_CLASSES) # nn.Linear in pytorch is a fully connected layer\n",
    "criterion = nn.CrossEntropyLoss() # for classification, we use Cross Entropy\n",
    "parameters_to_optimize = net.parameters() # In this case we optimize over all the parameters of AlexNet\n",
    "optimizer = optim.SGD(parameters_to_optimize, lr=LR, momentum=MOMENTUM, weight_decay=WEIGHT_DECAY)\n",
    "scheduler = optim.lr_scheduler.StepLR(optimizer, step_size=STEP_SIZE, gamma=GAMMA)"
   ]
  },
  {
   "cell_type": "markdown",
   "metadata": {
    "colab_type": "text",
    "id": "kSinjf5a_eMM"
   },
   "source": [
    "### Alexnet structure:"
   ]
  },
  {
   "cell_type": "code",
   "execution_count": 40,
   "metadata": {
    "colab": {
     "base_uri": "https://localhost:8080/",
     "height": 476
    },
    "colab_type": "code",
    "id": "jumEK-L4ADIV",
    "outputId": "89931370-5924-44ae-83a5-86c1ff78bace"
   },
   "outputs": [
    {
     "name": "stdout",
     "output_type": "stream",
     "text": [
      "AlexNet(\n",
      "  (features): Sequential(\n",
      "    (0): Conv2d(3, 64, kernel_size=(11, 11), stride=(4, 4), padding=(2, 2))\n",
      "    (1): ReLU(inplace=True)\n",
      "    (2): MaxPool2d(kernel_size=3, stride=2, padding=0, dilation=1, ceil_mode=False)\n",
      "    (3): Conv2d(64, 192, kernel_size=(5, 5), stride=(1, 1), padding=(2, 2))\n",
      "    (4): ReLU(inplace=True)\n",
      "    (5): MaxPool2d(kernel_size=3, stride=2, padding=0, dilation=1, ceil_mode=False)\n",
      "    (6): Conv2d(192, 384, kernel_size=(3, 3), stride=(1, 1), padding=(1, 1))\n",
      "    (7): ReLU(inplace=True)\n",
      "    (8): Conv2d(384, 256, kernel_size=(3, 3), stride=(1, 1), padding=(1, 1))\n",
      "    (9): ReLU(inplace=True)\n",
      "    (10): Conv2d(256, 256, kernel_size=(3, 3), stride=(1, 1), padding=(1, 1))\n",
      "    (11): ReLU(inplace=True)\n",
      "    (12): MaxPool2d(kernel_size=3, stride=2, padding=0, dilation=1, ceil_mode=False)\n",
      "  )\n",
      "  (avgpool): AdaptiveAvgPool2d(output_size=(6, 6))\n",
      "  (classifier): Sequential(\n",
      "    (0): Dropout(p=0.5, inplace=False)\n",
      "    (1): Linear(in_features=9216, out_features=4096, bias=True)\n",
      "    (2): ReLU(inplace=True)\n",
      "    (3): Dropout(p=0.5, inplace=False)\n",
      "    (4): Linear(in_features=4096, out_features=4096, bias=True)\n",
      "    (5): ReLU(inplace=True)\n",
      "    (6): Linear(in_features=4096, out_features=101, bias=True)\n",
      "  )\n",
      ")\n"
     ]
    }
   ],
   "source": [
    "print(net)"
   ]
  },
  {
   "cell_type": "markdown",
   "metadata": {
    "colab_type": "text",
    "id": "ZoiphQyW_oEb"
   },
   "source": [
    "### **Train the model pretrained** and found best hyper-params"
   ]
  },
  {
   "cell_type": "code",
   "execution_count": 41,
   "metadata": {
    "colab": {
     "base_uri": "https://localhost:8080/",
     "height": 1000
    },
    "colab_type": "code",
    "id": "6uzJvdl0_sdg",
    "outputId": "6cbfda8d-75ab-4968-97d1-b28ffc65c8d5"
   },
   "outputs": [
    {
     "name": "stdout",
     "output_type": "stream",
     "text": [
      "\n",
      "epoch 1/20, LR = [0.01]  loss : 2.9812 score: 0.6314  BEST!\n",
      "epoch 2/20, LR = [0.01]  loss : 0.8728 score: 0.7790  BEST!\n",
      "epoch 3/20, LR = [0.01]  loss : 0.3481 score: 0.8074  BEST!\n",
      "epoch 4/20, LR = [0.01]  loss : 0.1828 score: 0.8223  BEST!\n",
      "epoch 5/20, LR = [0.01]  loss : 0.1294 score: 0.8133 \n",
      "epoch 6/20, LR = [0.01]  loss : 0.0848 score: 0.8268  BEST!\n",
      "epoch 7/20, LR = [0.01]  loss : 0.0531 score: 0.8281  BEST!\n",
      "epoch 8/20, LR = [0.01]  loss : 0.0510 score: 0.8420  BEST!\n",
      "epoch 9/20, LR = [0.01]  loss : 0.0400 score: 0.8361 \n",
      "epoch 10/20, LR = [0.01]  loss : 0.0195 score: 0.8382 \n",
      "epoch 11/20, LR = [0.01]  loss : 0.0198 score: 0.8416 \n",
      "epoch 12/20, LR = [0.01]  loss : 0.0103 score: 0.8482  BEST!\n",
      "epoch 13/20, LR = [0.01]  loss : 0.0145 score: 0.8479 \n",
      "epoch 14/20, LR = [0.01]  loss : 0.0150 score: 0.8413 \n",
      "epoch 15/20, LR = [0.01]  loss : 0.0095 score: 0.8492  BEST!\n",
      "epoch 16/20, LR = [0.001]  loss : 0.0052 score: 0.8510  BEST!\n",
      "epoch 17/20, LR = [0.001]  loss : 0.0068 score: 0.8524  BEST!\n",
      "epoch 18/20, LR = [0.001]  loss : 0.0050 score: 0.8530  BEST!\n",
      "epoch 19/20, LR = [0.001]  loss : 0.0055 score: 0.8530 \n",
      "epoch 20/20, LR = [0.001]  loss : 0.0057 score: 0.8541  BEST!"
     ]
    },
    {
     "data": {
      "image/png": "[encoded data removed]",
      "text/plain": [
       "<Figure size 720x576 with 1 Axes>"
      ]
     },
     "metadata": {
      "tags": []
     },
     "output_type": "display_data"
    },
    {
     "data": {
      "image/png": "[encoded data removed]",
      "text/plain": [
       "<Figure size 720x576 with 1 Axes>"
      ]
     },
     "metadata": {
      "tags": []
     },
     "output_type": "display_data"
    }
   ],
   "source": [
    "net = net.to(DEVICE) # this will bring the network to GPU if DEVICE is cuda\n",
    "cudnn.benchmark # Calling this optimizes runtime\n",
    "best_model_pretrained=train_and_validate(NUM_EPOCHS,net,train_dataloader,val_dataset,val_dataloader,optimizer,criterion,scheduler)"
   ]
  },
  {
   "cell_type": "markdown",
   "metadata": {
    "colab_type": "text",
    "id": "fwNsGFDVEvi0"
   },
   "source": [
    "\n",
    "| lr    | epochs | step | loss   | score (validation) |\n",
    "| ----- | ------ | ---- | ------ | ------------------ |\n",
    "| 0.05  | 20     | 15   | div!   | div!               |\n",
    "| 0.01  | 20     | 15   | 0.001  | 0.854              |\n",
    "| 0.01  | 30     | 15   | 0.0012 | 0.852              |\n",
    "| 0.008 | 20     | 15   | 0.0024 | 0.85               |\n",
    "| 0.005 | 15     | 10   | 0.007  | 0.84               |\n",
    "| 0.005 | 30     | 25   | 0.002  | 0.853              |\n",
    "| 0.001 | 30     | 25   | 0.0015 | 0.83               |\n",
    "\n",
    "\n",
    "\n",
    "as you can see the results are much better than the previous model.\n",
    "even at the second epoch we reach a 75% accuracy on the validation set, which for me is a very good result;\n",
    "until the accuracy reach, after 20 epoch, just over 85%, impressive!\n",
    "\n",
    "but i tuned again different hyperparameters because the best ones in the \"not pretrained\" model didn't perform very well.\n",
    "\n",
    "\n",
    "*i could even continue to decrease the number of epochs and by making a more precise tuning, obtain even better results*\n",
    "\n"
   ]
  },
  {
   "cell_type": "code",
   "execution_count": 42,
   "metadata": {
    "colab": {
     "base_uri": "https://localhost:8080/",
     "height": 34
    },
    "colab_type": "code",
    "id": "5nk2hgTctWV1",
    "outputId": "4b7aee73-3fd7-4332-cedf-1a9a11d4d62b"
   },
   "outputs": [
    {
     "name": "stdout",
     "output_type": "stream",
     "text": [
      " score: 0.8496 "
     ]
    }
   ],
   "source": [
    "net = best_model_pretrained['model']\n",
    "net = net.to(DEVICE) # this will bring the network to GPU if DEVICE is cuda\n",
    "net.train(False) # Set Network to evaluation mode\n",
    "\n",
    "accuracy=evaluate(net,test_dataset,test_dataloader,'test')\n"
   ]
  },
  {
   "cell_type": "markdown",
   "metadata": {
    "colab_type": "text",
    "id": "ApurX6PsI_zG"
   },
   "source": [
    "## **Freezing layer**\n",
    "- LR= 0.01\n",
    "- 20 epochs\n",
    "- step size = 15\n",
    "\n",
    "\n",
    "in this section I try the hyper-parameters found previously:\n",
    "\n",
    "- freezing the convolutional layers\n",
    "- freezing the fully connected layers\n"
   ]
  },
  {
   "cell_type": "code",
   "execution_count": 0,
   "metadata": {
    "colab": {},
    "colab_type": "code",
    "id": "QY0NgQ3UDSfV"
   },
   "outputs": [],
   "source": [
    "LR = 0.01           # best params\n",
    "NUM_EPOCHS = 20     \n",
    "STEP_SIZE = 15"
   ]
  },
  {
   "cell_type": "markdown",
   "metadata": {
    "colab_type": "text",
    "id": "IkNvthsLBn6M"
   },
   "source": [
    "### Training and test freezing convolutional layers"
   ]
  },
  {
   "cell_type": "code",
   "execution_count": 44,
   "metadata": {
    "colab": {
     "base_uri": "https://localhost:8080/",
     "height": 1000
    },
    "colab_type": "code",
    "id": "kun1xRokJeYY",
    "outputId": "9c5bcb6f-86b8-45ba-e65d-2547c962ac25"
   },
   "outputs": [
    {
     "name": "stdout",
     "output_type": "stream",
     "text": [
      "\n",
      "epoch 1/20, LR = [0.01]  loss : 2.9148 score: 0.6670  BEST!\n",
      "epoch 2/20, LR = [0.01]  loss : 0.8320 score: 0.8026  BEST!\n",
      "epoch 3/20, LR = [0.01]  loss : 0.3365 score: 0.8174  BEST!\n",
      "epoch 4/20, LR = [0.01]  loss : 0.1628 score: 0.8358  BEST!\n",
      "epoch 5/20, LR = [0.01]  loss : 0.0940 score: 0.8389  BEST!\n",
      "epoch 6/20, LR = [0.01]  loss : 0.0598 score: 0.8409  BEST!\n",
      "epoch 7/20, LR = [0.01]  loss : 0.0505 score: 0.8434  BEST!\n",
      "epoch 8/20, LR = [0.01]  loss : 0.0371 score: 0.8437  BEST!\n",
      "epoch 9/20, LR = [0.01]  loss : 0.0342 score: 0.8423 \n",
      "epoch 10/20, LR = [0.01]  loss : 0.0306 score: 0.8458  BEST!\n",
      "epoch 11/20, LR = [0.01]  loss : 0.0293 score: 0.8416 \n",
      "epoch 12/20, LR = [0.01]  loss : 0.0322 score: 0.8416 \n",
      "epoch 13/20, LR = [0.01]  loss : 0.0247 score: 0.8413 \n",
      "epoch 14/20, LR = [0.01]  loss : 0.0233 score: 0.8485  BEST!\n",
      "epoch 15/20, LR = [0.01]  loss : 0.0179 score: 0.8489  BEST!\n",
      "epoch 16/20, LR = [0.001]  loss : 0.0155 score: 0.8482 \n",
      "epoch 17/20, LR = [0.001]  loss : 0.0174 score: 0.8482 \n",
      "epoch 18/20, LR = [0.001]  loss : 0.0138 score: 0.8479 \n",
      "epoch 19/20, LR = [0.001]  loss : 0.0127 score: 0.8485 \n",
      "epoch 20/20, LR = [0.001]  loss : 0.0142 score: 0.8485 "
     ]
    },
    {
     "data": {
      "image/png": "[encoded data removed]",
      "text/plain": [
       "<Figure size 720x576 with 1 Axes>"
      ]
     },
     "metadata": {
      "tags": []
     },
     "output_type": "display_data"
    },
    {
     "data": {
      "image/png": "[encoded data removed]",
      "text/plain": [
       "<Figure size 720x576 with 1 Axes>"
      ]
     },
     "metadata": {
      "tags": []
     },
     "output_type": "display_data"
    },
    {
     "name": "stdout",
     "output_type": "stream",
     "text": [
      " score: 0.8441 "
     ]
    }
   ],
   "source": [
    "net = alexnet(pretrained=True) \n",
    "net.classifier[6] = nn.Linear(4096, NUM_CLASSES) \n",
    "criterion = nn.CrossEntropyLoss() \n",
    "parameters_to_optimize = net.classifier.parameters() # only full connected layer\n",
    "optimizer = optim.SGD(parameters_to_optimize, lr=LR, momentum=MOMENTUM, weight_decay=WEIGHT_DECAY)\n",
    "scheduler = optim.lr_scheduler.StepLR(optimizer, step_size=STEP_SIZE, gamma=GAMMA)\n",
    "net = net.to(DEVICE) \n",
    "cudnn.benchmark\n",
    "best_model_full_connected=train_and_validate(NUM_EPOCHS,net,train_dataloader,val_dataset,val_dataloader,optimizer,criterion,scheduler)\n",
    "accuracy=evaluate(best_model_full_connected['model'],test_dataset,test_dataloader,'(full conn layers) test')"
   ]
  },
  {
   "cell_type": "markdown",
   "metadata": {
    "colab_type": "text",
    "id": "U2qNPInGDGku"
   },
   "source": [
    "### Training and freezing the fully connected layers\n"
   ]
  },
  {
   "cell_type": "code",
   "execution_count": 45,
   "metadata": {
    "colab": {
     "base_uri": "https://localhost:8080/",
     "height": 1000
    },
    "colab_type": "code",
    "id": "RrTujYgaDMJ9",
    "outputId": "0727f65b-eb2c-4ed8-cfab-5291858d5de7"
   },
   "outputs": [
    {
     "name": "stdout",
     "output_type": "stream",
     "text": [
      "\n",
      "epoch 1/20, LR = [0.01]  loss : 4.6834 score: 0.0747  BEST!\n",
      "epoch 2/20, LR = [0.01]  loss : 4.2454 score: 0.2358  BEST!\n",
      "epoch 3/20, LR = [0.01]  loss : 3.7166 score: 0.2839  BEST!\n",
      "epoch 4/20, LR = [0.01]  loss : 3.4482 score: 0.3164  BEST!\n",
      "epoch 5/20, LR = [0.01]  loss : 3.3001 score: 0.3278  BEST!\n",
      "epoch 6/20, LR = [0.01]  loss : 3.1533 score: 0.3565  BEST!\n",
      "epoch 7/20, LR = [0.01]  loss : 3.0402 score: 0.3385 \n",
      "epoch 8/20, LR = [0.01]  loss : 2.9637 score: 0.3762  BEST!\n",
      "epoch 9/20, LR = [0.01]  loss : 2.8535 score: 0.3838  BEST!\n",
      "epoch 10/20, LR = [0.01]  loss : 2.7974 score: 0.3994  BEST!\n",
      "epoch 11/20, LR = [0.01]  loss : 2.6833 score: 0.4080  BEST!\n",
      "epoch 12/20, LR = [0.01]  loss : 2.5698 score: 0.3925 \n",
      "epoch 13/20, LR = [0.01]  loss : 2.5440 score: 0.4457  BEST!\n",
      "epoch 14/20, LR = [0.01]  loss : 2.3931 score: 0.4637  BEST!\n",
      "epoch 15/20, LR = [0.01]  loss : 2.3154 score: 0.4720  BEST!\n",
      "epoch 16/20, LR = [0.001]  loss : 2.1546 score: 0.4820  BEST!\n",
      "epoch 17/20, LR = [0.001]  loss : 2.0965 score: 0.4889  BEST!\n",
      "epoch 18/20, LR = [0.001]  loss : 2.0448 score: 0.4900  BEST!\n",
      "epoch 19/20, LR = [0.001]  loss : 2.0268 score: 0.4938  BEST!\n",
      "epoch 20/20, LR = [0.001]  loss : 2.0172 score: 0.4917 "
     ]
    },
    {
     "data": {
      "image/png": "[encoded data removed]",
      "text/plain": [
       "<Figure size 720x576 with 1 Axes>"
      ]
     },
     "metadata": {
      "tags": []
     },
     "output_type": "display_data"
    },
    {
     "data": {
      "image/png": "[encoded data removed]",
      "text/plain": [
       "<Figure size 720x576 with 1 Axes>"
      ]
     },
     "metadata": {
      "tags": []
     },
     "output_type": "display_data"
    },
    {
     "name": "stdout",
     "output_type": "stream",
     "text": [
      " score: 0.4860 "
     ]
    }
   ],
   "source": [
    "net = alexnet(pretrained=True) \n",
    "net.classifier[6] = nn.Linear(4096, NUM_CLASSES) \n",
    "criterion = nn.CrossEntropyLoss() \n",
    "parameters_to_optimize = net.features.parameters() # only fully connected layer\n",
    "optimizer = optim.SGD(parameters_to_optimize, lr=LR, momentum=MOMENTUM, weight_decay=WEIGHT_DECAY)\n",
    "scheduler = optim.lr_scheduler.StepLR(optimizer, step_size=STEP_SIZE, gamma=GAMMA)\n",
    "net = net.to(DEVICE) \n",
    "cudnn.benchmark\n",
    "best_model_conv=train_and_validate(NUM_EPOCHS,net,train_dataloader,val_dataset,val_dataloader,optimizer,criterion,scheduler)\n",
    "accuracy=evaluate(best_model_conv['model'],test_dataset,test_dataloader,'(conv layers) test')"
   ]
  },
  {
   "cell_type": "markdown",
   "metadata": {
    "colab_type": "text",
    "id": "n-K8F8iHDNmr"
   },
   "source": [
    "**Compare results**\n",
    "\n",
    "as it was easy to imagine,training only the FC, the model converge much much faster then training only the CONV,\n",
    "\n",
    "in this case even the results (training only FC) are a very very similiar than training the entire network!\n",
    "\n",
    "this is because normally when we do transfer learning it is good practice to do fine-tuning on the highest levels of the network,And not on all levels.\n",
    "this because going down deep on the net, the first layers are those that identify more generic features, such as borders, shadows etc,\n",
    "while the layers at the upper (generally the FC layers) are those that identify more specific features.\n",
    "we do not need to re-train also the convolutionary layers because their weights are already adequate.\n",
    "\n",
    "| type of training (layers) | loss  | score(val) | score(test) |\n",
    "| ------------------------- | ----- | ---------- | ----------- |\n",
    "| all                       | 0.001 | 0.85       | 0.85        |\n",
    "| only Fully connected      | 0.01  | 0.84       | 0.84        |\n",
    "| only convolutional        | 2     | 0.49       | 0.48        |"
   ]
  },
  {
   "cell_type": "code",
   "execution_count": 49,
   "metadata": {
    "colab": {
     "base_uri": "https://localhost:8080/",
     "height": 1000
    },
    "colab_type": "code",
    "id": "uH5XdRr7KGrS",
    "outputId": "a997a929-6dd9-4c5a-ab44-9cd2e96655fc"
   },
   "outputs": [
    {
     "name": "stdout",
     "output_type": "stream",
     "text": [
      "ACCURACY OBTAINED WHEN TRAINING FULLY CONNECTED LAYER\n"
     ]
    },
    {
     "data": {
      "image/png": "[encoded data removed]",
      "text/plain": [
       "<Figure size 720x576 with 1 Axes>"
      ]
     },
     "metadata": {
      "tags": []
     },
     "output_type": "display_data"
    },
    {
     "name": "stdout",
     "output_type": "stream",
     "text": [
      "ACCURACY OBTAINED WHEN TRAINING CONVOLUTIONAL LAYER\n"
     ]
    },
    {
     "data": {
      "image/png": "[encoded data removed]",
      "text/plain": [
       "<Figure size 720x576 with 1 Axes>"
      ]
     },
     "metadata": {
      "tags": []
     },
     "output_type": "display_data"
    }
   ],
   "source": [
    "print('ACCURACY OBTAINED WHEN TRAINING FULLY CONNECTED LAYER')\n",
    "plot_graph(range(NUM_EPOCHS),best_model_full_connected['accuracies'],'epochs','accuracy')\n",
    "print('ACCURACY OBTAINED WHEN TRAINING CONVOLUTIONAL LAYER')\n",
    "plot_graph(range(NUM_EPOCHS),best_model_conv['accuracies'],'epochs','accuracy')"
   ]
  },
  {
   "cell_type": "markdown",
   "metadata": {
    "colab_type": "text",
    "id": "L6Ielm0o_S-b"
   },
   "source": [
    "# Data augmentation\n",
    "\n",
    "in this section I experiment with different types of image transformations:\n",
    "- (stock) centerCrop\n",
    "- randomCrop\n",
    "- centerCrop + randomHorizontalFlip\n",
    "- centerCrop + randomRotation(180°)"
   ]
  },
  {
   "cell_type": "markdown",
   "metadata": {
    "colab_type": "text",
    "id": "yDxjvyO96CEq"
   },
   "source": [
    "## Prepare datasets with new transforms"
   ]
  },
  {
   "cell_type": "code",
   "execution_count": 52,
   "metadata": {
    "colab": {
     "base_uri": "https://localhost:8080/",
     "height": 663
    },
    "colab_type": "code",
    "id": "YAbiH-g7_V6Q",
    "outputId": "f117ea49-965d-4bea-9455-55a15570af5a"
   },
   "outputs": [
    {
     "name": "stdout",
     "output_type": "stream",
     "text": [
      "[stock transforms]\n",
      " Compose(\n",
      "    Resize(size=256, interpolation=PIL.Image.BILINEAR)\n",
      "    CenterCrop(size=(224, 224))\n",
      "    ToTensor()\n",
      "    Normalize(mean=(0.485, 0.456, 0.406), std=(0.229, 0.224, 0.225))\n",
      ")\n",
      "[transforms #1]\n",
      " Compose(\n",
      "    Resize(size=256, interpolation=PIL.Image.BILINEAR)\n",
      "    RandomCrop(size=(224, 224), padding=None)\n",
      "    ToTensor()\n",
      "    Normalize(mean=(0.485, 0.456, 0.406), std=(0.229, 0.224, 0.225))\n",
      ")\n",
      "[transform #2]\n",
      " Compose(\n",
      "    Resize(size=256, interpolation=PIL.Image.BILINEAR)\n",
      "    CenterCrop(size=(224, 224))\n",
      "    RandomHorizontalFlip(p=0.5)\n",
      "    ToTensor()\n",
      "    Normalize(mean=(0.485, 0.456, 0.406), std=(0.229, 0.224, 0.225))\n",
      ")\n",
      "[transform #3]\n",
      " Compose(\n",
      "    Resize(size=256, interpolation=PIL.Image.BILINEAR)\n",
      "    CenterCrop(size=(224, 224))\n",
      "    RandomRotation(degrees=(-180, 180), resample=False, expand=False)\n",
      "    ToTensor()\n",
      "    Normalize(mean=(0.485, 0.456, 0.406), std=(0.229, 0.224, 0.225))\n",
      ")\n",
      "FOUND 101 CLASSES [accordion,airplanes..]\n",
      "Loaded 5784 Images and label\n",
      "FOUND 101 CLASSES [accordion,airplanes..]\n",
      "Loaded 2893 Images and label\n",
      "Train Dataset: 5784\n",
      "Test Dataset: 2893\n",
      "Training split: 2892\n",
      "Validation split: 2892\n"
     ]
    }
   ],
   "source": [
    "LR = 0.01           # best params\n",
    "NUM_EPOCHS = 20     \n",
    "STEP_SIZE = 15\n",
    "\n",
    "# normalize function with mean and standard deviation\n",
    "transform = transforms.Compose([transforms.Resize(256),\n",
    "                                      transforms.CenterCrop(224),\n",
    "                                      transforms.ToTensor(),\n",
    "                                      transforms.Normalize( (0.485, 0.456, 0.406), (0.229, 0.224, 0.225))                                    \n",
    "])\n",
    "transform_1 = transforms.Compose([transforms.Resize(256),\n",
    "                                      transforms.RandomCrop(224),\n",
    "                                      transforms.ToTensor(),\n",
    "                                      transforms.Normalize( (0.485, 0.456, 0.406), (0.229, 0.224, 0.225))                                    \n",
    "])\n",
    "transform_2 = transforms.Compose([transforms.Resize(256),\n",
    "                                      transforms.CenterCrop(224),\n",
    "                                      transforms.RandomHorizontalFlip(),\n",
    "                                      transforms.ToTensor(),\n",
    "                                      transforms.Normalize( (0.485, 0.456, 0.406), (0.229, 0.224, 0.225))                                    \n",
    "])\n",
    "transform_3 = transforms.Compose([transforms.Resize(256),\n",
    "                                      transforms.CenterCrop(224),\n",
    "                                      transforms.RandomRotation(180),\n",
    "                                      transforms.ToTensor(),\n",
    "                                      transforms.Normalize( (0.485, 0.456, 0.406), (0.229, 0.224, 0.225))                                    \n",
    "])\n",
    "print('[stock transforms]\\n',transform)\n",
    "print('[transforms #1]\\n',transform_1)\n",
    "print('[transform #2]\\n',transform_2)\n",
    "print('[transform #3]\\n',transform_3)\n",
    "\n",
    "\n",
    "train_dataset= Caltech(DATA_DIR,'train',transform=transform_3)  # make dataset with custom transform (mean and std of imagenet)\n",
    "test_dataset= Caltech(DATA_DIR,'test',transform=eval_transform)\n",
    "# Check dataset sizes\n",
    "print('Train Dataset: {}'.format(len(train_dataset)))\n",
    "print('Test Dataset: {}'.format(len(test_dataset)))\n",
    "train_indexes = [idx for idx in range(len(train_dataset)) if idx % 2==0]\n",
    "val_indexes=[i+1 for i in train_indexes]\n",
    "#train and val\n",
    "val_dataset=Subset(train_dataset,val_indexes)\n",
    "train_dataset=Subset(train_dataset,train_indexes)\n",
    "\n",
    "print('Training split: {}'.format(len(train_dataset)))\n",
    "print('Validation split: {}'.format(len(val_dataset)))\n",
    "#dataloader\n",
    "train_dataloader = DataLoader(train_dataset, batch_size=BATCH_SIZE, shuffle=True, num_workers=4, drop_last=True)\n",
    "test_dataloader = DataLoader(test_dataset, batch_size=BATCH_SIZE, shuffle=False, num_workers=4)\n",
    "val_dataloader = DataLoader(val_dataset, batch_size=BATCH_SIZE, shuffle=False, num_workers=4)\n",
    "\n"
   ]
  },
  {
   "cell_type": "markdown",
   "metadata": {
    "colab_type": "text",
    "id": "PxmJj3nNIZkt"
   },
   "source": [
    "### Test the new transformations"
   ]
  },
  {
   "cell_type": "code",
   "execution_count": 53,
   "metadata": {
    "colab": {
     "base_uri": "https://localhost:8080/",
     "height": 1000
    },
    "colab_type": "code",
    "id": "BzbDA42FDQTJ",
    "outputId": "a3f6bc90-9d2b-4899-cf06-6912e29113d6"
   },
   "outputs": [
    {
     "name": "stdout",
     "output_type": "stream",
     "text": [
      "\n",
      "epoch 1/20, LR = [0.01]  loss : 3.6166 score: 0.4308  BEST!\n",
      "epoch 2/20, LR = [0.01]  loss : 2.0666 score: 0.5778  BEST!\n",
      "epoch 3/20, LR = [0.01]  loss : 1.3252 score: 0.6241  BEST!\n",
      "epoch 4/20, LR = [0.01]  loss : 1.0635 score: 0.6345  BEST!\n",
      "epoch 5/20, LR = [0.01]  loss : 0.8243 score: 0.6421  BEST!\n",
      "epoch 6/20, LR = [0.01]  loss : 0.6909 score: 0.6546  BEST!\n",
      "epoch 7/20, LR = [0.01]  loss : 0.6029 score: 0.6553  BEST!\n",
      "epoch 8/20, LR = [0.01]  loss : 0.5582 score: 0.6598  BEST!\n",
      "epoch 9/20, LR = [0.01]  loss : 0.4692 score: 0.6656  BEST!\n",
      "epoch 10/20, LR = [0.01]  loss : 0.3781 score: 0.6587 \n",
      "epoch 11/20, LR = [0.01]  loss : 0.3247 score: 0.6622 \n",
      "epoch 12/20, LR = [0.01]  loss : 0.3288 score: 0.6622 \n",
      "epoch 13/20, LR = [0.01]  loss : 0.2789 score: 0.6584 \n",
      "epoch 14/20, LR = [0.01]  loss : 0.2192 score: 0.6736  BEST!\n",
      "epoch 15/20, LR = [0.01]  loss : 0.2246 score: 0.6763  BEST!\n",
      "epoch 16/20, LR = [0.001]  loss : 0.1370 score: 0.6895  BEST!\n",
      "epoch 17/20, LR = [0.001]  loss : 0.0971 score: 0.6850 \n",
      "epoch 18/20, LR = [0.001]  loss : 0.0811 score: 0.7019  BEST!\n",
      "epoch 19/20, LR = [0.001]  loss : 0.0627 score: 0.7002 \n",
      "epoch 20/20, LR = [0.001]  loss : 0.0636 score: 0.7006 "
     ]
    },
    {
     "data": {
      "image/png": "[encoded data removed]",
      "text/plain": [
       "<Figure size 720x576 with 1 Axes>"
      ]
     },
     "metadata": {
      "tags": []
     },
     "output_type": "display_data"
    },
    {
     "data": {
      "image/png": "[encoded data removed]",
      "text/plain": [
       "<Figure size 720x576 with 1 Axes>"
      ]
     },
     "metadata": {
      "tags": []
     },
     "output_type": "display_data"
    },
    {
     "name": "stdout",
     "output_type": "stream",
     "text": [
      " score: 0.6371 "
     ]
    }
   ],
   "source": [
    "net = alexnet(pretrained=True) \n",
    "net.classifier[6] = nn.Linear(4096, NUM_CLASSES) \n",
    "criterion = nn.CrossEntropyLoss() \n",
    "parameters_to_optimize = net.parameters() # all params\n",
    "optimizer = optim.SGD(parameters_to_optimize, lr=LR, momentum=MOMENTUM, weight_decay=WEIGHT_DECAY)\n",
    "scheduler = optim.lr_scheduler.StepLR(optimizer, step_size=STEP_SIZE, gamma=GAMMA)\n",
    "net = net.to(DEVICE) \n",
    "cudnn.benchmark\n",
    "best_model_augmentation=train_and_validate(NUM_EPOCHS,net,train_dataloader,val_dataset,val_dataloader,optimizer,criterion,scheduler)\n",
    "accuracy=evaluate(best_model_augmentation['model'],test_dataset,test_dataloader,'test')"
   ]
  },
  {
   "cell_type": "markdown",
   "metadata": {
    "colab_type": "text",
    "id": "KsDRD4esb_zv"
   },
   "source": [
    "|       | transforms                            | loss  | score (test) |\n",
    "|-------|--------------------------------------|-------|--------------|\n",
    "| stock | center-crop                          | 0.001 | 0.85         |\n",
    "| 1     | random crop                          | 0.018 | 0.833        |\n",
    "| 2     | center-crop + random horizontal flip | 0.01  | 0.78       |\n",
    "| 3     | center-crop + random rotation (180°) | 0.07  | 0.64          |\n",
    "\n",
    "\n",
    "this time I couldn't get better results than the previous ones (but quite similar).\n",
    "however I think that using different types of transformations greatly helps to reduce overfitting (wee can see this on the loss wich is medium higher than the previous) and improve accuracy\n",
    "\n",
    "*Another way can be increase the cardinality of data by concatenate different sets with different transformations*"
   ]
  },
  {
   "cell_type": "markdown",
   "metadata": {
    "colab_type": "text",
    "id": "ZvUY9MMcnQll"
   },
   "source": [
    "# **Beyond AlexNet**\n",
    "\n",
    "## **Resnet**\n",
    "*Very deep network using residual connection.*\n",
    "\n",
    "Resnet is very different model and much deeper than alexnet;\n",
    "\n",
    "it starts from the hypothesis that deep models are more difficult to optimize;\n",
    "\n",
    "solution: use layers to fit residual F(x) = H(x) + x instead of H(x) directly\n",
    "\n",
    "resnet is composed by \"residual blocks\", every block has two 3x3 conv layers\n",
    "\n",
    "since the network is much deeper, it is necessary to lower (even a lot!) the batch size to avoid saturating the gpu ram.\n",
    "\n",
    "*I've also tried the **vgg16** but i couldn't get it to work at its best, and the training was really really slow. and sometimes (even with a very lower batch size) bring Colab to crash for too much Vram request*\n"
   ]
  },
  {
   "cell_type": "markdown",
   "metadata": {
    "colab_type": "text",
    "id": "gaoYfncBq1HJ"
   },
   "source": [
    "### Resnet vs alexnet vs vgg16\n",
    "\n",
    "we can see the huge structural differences between these models."
   ]
  },
  {
   "cell_type": "code",
   "execution_count": 57,
   "metadata": {
    "colab": {
     "base_uri": "https://localhost:8080/",
     "height": 1000
    },
    "colab_type": "code",
    "id": "RICUY4ZJqyLR",
    "outputId": "845fcf0d-c1d1-403d-c9a2-18e80b876419"
   },
   "outputs": [
    {
     "name": "stdout",
     "output_type": "stream",
     "text": [
      "-------ALEXNET-----\n",
      "AlexNet(\n",
      "  (features): Sequential(\n",
      "    (0): Conv2d(3, 64, kernel_size=(11, 11), stride=(4, 4), padding=(2, 2))\n",
      "    (1): ReLU(inplace=True)\n",
      "    (2): MaxPool2d(kernel_size=3, stride=2, padding=0, dilation=1, ceil_mode=False)\n",
      "    (3): Conv2d(64, 192, kernel_size=(5, 5), stride=(1, 1), padding=(2, 2))\n",
      "    (4): ReLU(inplace=True)\n",
      "    (5): MaxPool2d(kernel_size=3, stride=2, padding=0, dilation=1, ceil_mode=False)\n",
      "    (6): Conv2d(192, 384, kernel_size=(3, 3), stride=(1, 1), padding=(1, 1))\n",
      "    (7): ReLU(inplace=True)\n",
      "    (8): Conv2d(384, 256, kernel_size=(3, 3), stride=(1, 1), padding=(1, 1))\n",
      "    (9): ReLU(inplace=True)\n",
      "    (10): Conv2d(256, 256, kernel_size=(3, 3), stride=(1, 1), padding=(1, 1))\n",
      "    (11): ReLU(inplace=True)\n",
      "    (12): MaxPool2d(kernel_size=3, stride=2, padding=0, dilation=1, ceil_mode=False)\n",
      "  )\n",
      "  (avgpool): AdaptiveAvgPool2d(output_size=(6, 6))\n",
      "  (classifier): Sequential(\n",
      "    (0): Dropout(p=0.5, inplace=False)\n",
      "    (1): Linear(in_features=9216, out_features=4096, bias=True)\n",
      "    (2): ReLU(inplace=True)\n",
      "    (3): Dropout(p=0.5, inplace=False)\n",
      "    (4): Linear(in_features=4096, out_features=4096, bias=True)\n",
      "    (5): ReLU(inplace=True)\n",
      "    (6): Linear(in_features=4096, out_features=1000, bias=True)\n",
      "  )\n",
      ")\n",
      "-------RESNET-----\n",
      "ResNet(\n",
      "  (conv1): Conv2d(3, 64, kernel_size=(7, 7), stride=(2, 2), padding=(3, 3), bias=False)\n",
      "  (bn1): BatchNorm2d(64, eps=1e-05, momentum=0.1, affine=True, track_running_stats=True)\n",
      "  (relu): ReLU(inplace=True)\n",
      "  (maxpool): MaxPool2d(kernel_size=3, stride=2, padding=1, dilation=1, ceil_mode=False)\n",
      "  (layer1): Sequential(\n",
      "    (0): BasicBlock(\n",
      "      (conv1): Conv2d(64, 64, kernel_size=(3, 3), stride=(1, 1), padding=(1, 1), bias=False)\n",
      "      (bn1): BatchNorm2d(64, eps=1e-05, momentum=0.1, affine=True, track_running_stats=True)\n",
      "      (relu): ReLU(inplace=True)\n",
      "      (conv2): Conv2d(64, 64, kernel_size=(3, 3), stride=(1, 1), padding=(1, 1), bias=False)\n",
      "      (bn2): BatchNorm2d(64, eps=1e-05, momentum=0.1, affine=True, track_running_stats=True)\n",
      "    )\n",
      "    (1): BasicBlock(\n",
      "      (conv1): Conv2d(64, 64, kernel_size=(3, 3), stride=(1, 1), padding=(1, 1), bias=False)\n",
      "      (bn1): BatchNorm2d(64, eps=1e-05, momentum=0.1, affine=True, track_running_stats=True)\n",
      "      (relu): ReLU(inplace=True)\n",
      "      (conv2): Conv2d(64, 64, kernel_size=(3, 3), stride=(1, 1), padding=(1, 1), bias=False)\n",
      "      (bn2): BatchNorm2d(64, eps=1e-05, momentum=0.1, affine=True, track_running_stats=True)\n",
      "    )\n",
      "  )\n",
      "  (layer2): Sequential(\n",
      "    (0): BasicBlock(\n",
      "      (conv1): Conv2d(64, 128, kernel_size=(3, 3), stride=(2, 2), padding=(1, 1), bias=False)\n",
      "      (bn1): BatchNorm2d(128, eps=1e-05, momentum=0.1, affine=True, track_running_stats=True)\n",
      "      (relu): ReLU(inplace=True)\n",
      "      (conv2): Conv2d(128, 128, kernel_size=(3, 3), stride=(1, 1), padding=(1, 1), bias=False)\n",
      "      (bn2): BatchNorm2d(128, eps=1e-05, momentum=0.1, affine=True, track_running_stats=True)\n",
      "      (downsample): Sequential(\n",
      "        (0): Conv2d(64, 128, kernel_size=(1, 1), stride=(2, 2), bias=False)\n",
      "        (1): BatchNorm2d(128, eps=1e-05, momentum=0.1, affine=True, track_running_stats=True)\n",
      "      )\n",
      "    )\n",
      "    (1): BasicBlock(\n",
      "      (conv1): Conv2d(128, 128, kernel_size=(3, 3), stride=(1, 1), padding=(1, 1), bias=False)\n",
      "      (bn1): BatchNorm2d(128, eps=1e-05, momentum=0.1, affine=True, track_running_stats=True)\n",
      "      (relu): ReLU(inplace=True)\n",
      "      (conv2): Conv2d(128, 128, kernel_size=(3, 3), stride=(1, 1), padding=(1, 1), bias=False)\n",
      "      (bn2): BatchNorm2d(128, eps=1e-05, momentum=0.1, affine=True, track_running_stats=True)\n",
      "    )\n",
      "  )\n",
      "  (layer3): Sequential(\n",
      "    (0): BasicBlock(\n",
      "      (conv1): Conv2d(128, 256, kernel_size=(3, 3), stride=(2, 2), padding=(1, 1), bias=False)\n",
      "      (bn1): BatchNorm2d(256, eps=1e-05, momentum=0.1, affine=True, track_running_stats=True)\n",
      "      (relu): ReLU(inplace=True)\n",
      "      (conv2): Conv2d(256, 256, kernel_size=(3, 3), stride=(1, 1), padding=(1, 1), bias=False)\n",
      "      (bn2): BatchNorm2d(256, eps=1e-05, momentum=0.1, affine=True, track_running_stats=True)\n",
      "      (downsample): Sequential(\n",
      "        (0): Conv2d(128, 256, kernel_size=(1, 1), stride=(2, 2), bias=False)\n",
      "        (1): BatchNorm2d(256, eps=1e-05, momentum=0.1, affine=True, track_running_stats=True)\n",
      "      )\n",
      "    )\n",
      "    (1): BasicBlock(\n",
      "      (conv1): Conv2d(256, 256, kernel_size=(3, 3), stride=(1, 1), padding=(1, 1), bias=False)\n",
      "      (bn1): BatchNorm2d(256, eps=1e-05, momentum=0.1, affine=True, track_running_stats=True)\n",
      "      (relu): ReLU(inplace=True)\n",
      "      (conv2): Conv2d(256, 256, kernel_size=(3, 3), stride=(1, 1), padding=(1, 1), bias=False)\n",
      "      (bn2): BatchNorm2d(256, eps=1e-05, momentum=0.1, affine=True, track_running_stats=True)\n",
      "    )\n",
      "  )\n",
      "  (layer4): Sequential(\n",
      "    (0): BasicBlock(\n",
      "      (conv1): Conv2d(256, 512, kernel_size=(3, 3), stride=(2, 2), padding=(1, 1), bias=False)\n",
      "      (bn1): BatchNorm2d(512, eps=1e-05, momentum=0.1, affine=True, track_running_stats=True)\n",
      "      (relu): ReLU(inplace=True)\n",
      "      (conv2): Conv2d(512, 512, kernel_size=(3, 3), stride=(1, 1), padding=(1, 1), bias=False)\n",
      "      (bn2): BatchNorm2d(512, eps=1e-05, momentum=0.1, affine=True, track_running_stats=True)\n",
      "      (downsample): Sequential(\n",
      "        (0): Conv2d(256, 512, kernel_size=(1, 1), stride=(2, 2), bias=False)\n",
      "        (1): BatchNorm2d(512, eps=1e-05, momentum=0.1, affine=True, track_running_stats=True)\n",
      "      )\n",
      "    )\n",
      "    (1): BasicBlock(\n",
      "      (conv1): Conv2d(512, 512, kernel_size=(3, 3), stride=(1, 1), padding=(1, 1), bias=False)\n",
      "      (bn1): BatchNorm2d(512, eps=1e-05, momentum=0.1, affine=True, track_running_stats=True)\n",
      "      (relu): ReLU(inplace=True)\n",
      "      (conv2): Conv2d(512, 512, kernel_size=(3, 3), stride=(1, 1), padding=(1, 1), bias=False)\n",
      "      (bn2): BatchNorm2d(512, eps=1e-05, momentum=0.1, affine=True, track_running_stats=True)\n",
      "    )\n",
      "  )\n",
      "  (avgpool): AdaptiveAvgPool2d(output_size=(1, 1))\n",
      "  (fc): Linear(in_features=512, out_features=1000, bias=True)\n",
      ")\n",
      "-------VGG16-----\n",
      "VGG(\n",
      "  (features): Sequential(\n",
      "    (0): Conv2d(3, 64, kernel_size=(3, 3), stride=(1, 1), padding=(1, 1))\n",
      "    (1): ReLU(inplace=True)\n",
      "    (2): Conv2d(64, 64, kernel_size=(3, 3), stride=(1, 1), padding=(1, 1))\n",
      "    (3): ReLU(inplace=True)\n",
      "    (4): MaxPool2d(kernel_size=2, stride=2, padding=0, dilation=1, ceil_mode=False)\n",
      "    (5): Conv2d(64, 128, kernel_size=(3, 3), stride=(1, 1), padding=(1, 1))\n",
      "    (6): ReLU(inplace=True)\n",
      "    (7): Conv2d(128, 128, kernel_size=(3, 3), stride=(1, 1), padding=(1, 1))\n",
      "    (8): ReLU(inplace=True)\n",
      "    (9): MaxPool2d(kernel_size=2, stride=2, padding=0, dilation=1, ceil_mode=False)\n",
      "    (10): Conv2d(128, 256, kernel_size=(3, 3), stride=(1, 1), padding=(1, 1))\n",
      "    (11): ReLU(inplace=True)\n",
      "    (12): Conv2d(256, 256, kernel_size=(3, 3), stride=(1, 1), padding=(1, 1))\n",
      "    (13): ReLU(inplace=True)\n",
      "    (14): Conv2d(256, 256, kernel_size=(3, 3), stride=(1, 1), padding=(1, 1))\n",
      "    (15): ReLU(inplace=True)\n",
      "    (16): MaxPool2d(kernel_size=2, stride=2, padding=0, dilation=1, ceil_mode=False)\n",
      "    (17): Conv2d(256, 512, kernel_size=(3, 3), stride=(1, 1), padding=(1, 1))\n",
      "    (18): ReLU(inplace=True)\n",
      "    (19): Conv2d(512, 512, kernel_size=(3, 3), stride=(1, 1), padding=(1, 1))\n",
      "    (20): ReLU(inplace=True)\n",
      "    (21): Conv2d(512, 512, kernel_size=(3, 3), stride=(1, 1), padding=(1, 1))\n",
      "    (22): ReLU(inplace=True)\n",
      "    (23): MaxPool2d(kernel_size=2, stride=2, padding=0, dilation=1, ceil_mode=False)\n",
      "    (24): Conv2d(512, 512, kernel_size=(3, 3), stride=(1, 1), padding=(1, 1))\n",
      "    (25): ReLU(inplace=True)\n",
      "    (26): Conv2d(512, 512, kernel_size=(3, 3), stride=(1, 1), padding=(1, 1))\n",
      "    (27): ReLU(inplace=True)\n",
      "    (28): Conv2d(512, 512, kernel_size=(3, 3), stride=(1, 1), padding=(1, 1))\n",
      "    (29): ReLU(inplace=True)\n",
      "    (30): MaxPool2d(kernel_size=2, stride=2, padding=0, dilation=1, ceil_mode=False)\n",
      "  )\n",
      "  (avgpool): AdaptiveAvgPool2d(output_size=(7, 7))\n",
      "  (classifier): Sequential(\n",
      "    (0): Linear(in_features=25088, out_features=4096, bias=True)\n",
      "    (1): ReLU(inplace=True)\n",
      "    (2): Dropout(p=0.5, inplace=False)\n",
      "    (3): Linear(in_features=4096, out_features=4096, bias=True)\n",
      "    (4): ReLU(inplace=True)\n",
      "    (5): Dropout(p=0.5, inplace=False)\n",
      "    (6): Linear(in_features=4096, out_features=1000, bias=True)\n",
      "  )\n",
      ")\n"
     ]
    }
   ],
   "source": [
    "import torchvision.models as models\n",
    "resnet = models.resnet18(pretrained=True)\n",
    "alexnet = models.alexnet(pretrained=True) \n",
    "vgg=models.vgg16(pretrained=True)\n",
    "print('-------ALEXNET-----')\n",
    "print(alexnet)\n",
    "print('-------RESNET-----')\n",
    "print(resnet)\n",
    "print('-------VGG16-----')\n",
    "print(vgg)\n"
   ]
  },
  {
   "cell_type": "markdown",
   "metadata": {
    "colab_type": "text",
    "id": "JDZ68s2A60Qa"
   },
   "source": [
    "### Test with resnet"
   ]
  },
  {
   "cell_type": "code",
   "execution_count": 55,
   "metadata": {
    "colab": {
     "base_uri": "https://localhost:8080/",
     "height": 153
    },
    "colab_type": "code",
    "id": "5Ho3fg2Bsuv8",
    "outputId": "cdea11cb-07f3-413b-c970-3cccef53d188"
   },
   "outputs": [
    {
     "name": "stdout",
     "output_type": "stream",
     "text": [
      "FOUND 101 CLASSES [accordion,airplanes..]\n",
      "Loaded 5784 Images and label\n",
      "FOUND 101 CLASSES [accordion,airplanes..]\n",
      "Loaded 2893 Images and label\n",
      "Train Dataset: 5784\n",
      "Test Dataset: 2893\n",
      "Training split: 2892\n",
      "Validation split: 2892\n"
     ]
    }
   ],
   "source": [
    "LR = 0.02         \n",
    "NUM_EPOCHS = 30     \n",
    "STEP_SIZE = 20\n",
    "NUM_CLASSES = 101\n",
    "BATCH_SIZE = 126\n",
    "# normalize function with mean and standard deviation\n",
    "transform = transforms.Compose([transforms.Resize(256),\n",
    "                                      transforms.CenterCrop(224),\n",
    "                                      transforms.ToTensor(),\n",
    "                                      transforms.Normalize( (0.485, 0.456, 0.406), (0.229, 0.224, 0.225))                                    \n",
    "])\n",
    "train_dataset= Caltech(DATA_DIR,'train',transform=transform)  # make dataset with custom transform (mean and std of imagenet)\n",
    "test_dataset= Caltech(DATA_DIR,'test',transform=transform)\n",
    "# Check dataset sizes\n",
    "print('Train Dataset: {}'.format(len(train_dataset)))\n",
    "print('Test Dataset: {}'.format(len(test_dataset)))\n",
    "train_indexes = [idx for idx in range(len(train_dataset)) if idx % 2==0]\n",
    "val_indexes=[i+1 for i in train_indexes]\n",
    "#train and val\n",
    "val_dataset=Subset(train_dataset,val_indexes)\n",
    "train_dataset=Subset(train_dataset,train_indexes)\n",
    "\n",
    "print('Training split: {}'.format(len(train_dataset)))\n",
    "print('Validation split: {}'.format(len(val_dataset)))\n",
    "#dataloader\n",
    "train_dataloader = DataLoader(train_dataset, batch_size=BATCH_SIZE, shuffle=True, num_workers=4, drop_last=True)\n",
    "test_dataloader = DataLoader(test_dataset, batch_size=BATCH_SIZE, shuffle=False, num_workers=4)\n",
    "val_dataloader = DataLoader(val_dataset, batch_size=BATCH_SIZE, shuffle=False, num_workers=4)\n",
    "\n",
    "resnet.fc=nn.Linear(512, NUM_CLASSES)\n",
    "vgg.classifier[-1]=nn.Linear(4096, NUM_CLASSES)"
   ]
  },
  {
   "cell_type": "code",
   "execution_count": 56,
   "metadata": {
    "colab": {
     "base_uri": "https://localhost:8080/",
     "height": 1000
    },
    "colab_type": "code",
    "id": "B1HHyZNSqlDz",
    "outputId": "b9c424b7-2f5a-4623-c9ad-6da0e06846ae"
   },
   "outputs": [
    {
     "name": "stdout",
     "output_type": "stream",
     "text": [
      "\n",
      "epoch 1/30, LR = [0.02]  loss : 2.8040 score: 0.6840  BEST!\n",
      "epoch 2/30, LR = [0.02]  loss : 0.6968 score: 0.8676  BEST!\n",
      "epoch 3/30, LR = [0.02]  loss : 0.1940 score: 0.9136  BEST!\n",
      "epoch 4/30, LR = [0.02]  loss : 0.0682 score: 0.9132 \n",
      "epoch 5/30, LR = [0.02]  loss : 0.0314 score: 0.9291  BEST!\n",
      "epoch 6/30, LR = [0.02]  loss : 0.0180 score: 0.9315  BEST!\n",
      "epoch 7/30, LR = [0.02]  loss : 0.0157 score: 0.9329  BEST!\n",
      "epoch 8/30, LR = [0.02]  loss : 0.0124 score: 0.9336  BEST!\n",
      "epoch 9/30, LR = [0.02]  loss : 0.0123 score: 0.9340  BEST!\n",
      "epoch 10/30, LR = [0.02]  loss : 0.0103 score: 0.9322 \n",
      "epoch 11/30, LR = [0.02]  loss : 0.0093 score: 0.9360  BEST!\n",
      "epoch 12/30, LR = [0.02]  loss : 0.0082 score: 0.9353 \n",
      "epoch 13/30, LR = [0.02]  loss : 0.0085 score: 0.9340 \n",
      "epoch 14/30, LR = [0.02]  loss : 0.0082 score: 0.9346 \n",
      "epoch 15/30, LR = [0.02]  loss : 0.0076 score: 0.9305 \n",
      "epoch 16/30, LR = [0.02]  loss : 0.0071 score: 0.9350 \n",
      "epoch 17/30, LR = [0.02]  loss : 0.0061 score: 0.9340 \n",
      "epoch 18/30, LR = [0.02]  loss : 0.0063 score: 0.9340 \n",
      "epoch 19/30, LR = [0.02]  loss : 0.0057 score: 0.9350 \n",
      "epoch 20/30, LR = [0.02]  loss : 0.0054 score: 0.9360 \n",
      "epoch 21/30, LR = [0.002]  loss : 0.0046 score: 0.9360 \n",
      "epoch 22/30, LR = [0.002]  loss : 0.0047 score: 0.9381  BEST!\n",
      "epoch 23/30, LR = [0.002]  loss : 0.0046 score: 0.9367 \n",
      "epoch 24/30, LR = [0.002]  loss : 0.0043 score: 0.9371 \n",
      "epoch 25/30, LR = [0.002]  loss : 0.0046 score: 0.9357 \n",
      "epoch 26/30, LR = [0.002]  loss : 0.0043 score: 0.9360 \n",
      "epoch 27/30, LR = [0.002]  loss : 0.0050 score: 0.9367 \n",
      "epoch 28/30, LR = [0.002]  loss : 0.0049 score: 0.9374 \n",
      "epoch 29/30, LR = [0.002]  loss : 0.0045 score: 0.9353 \n",
      "epoch 30/30, LR = [0.002]  loss : 0.0046 score: 0.9353 "
     ]
    },
    {
     "data": {
      "image/png": "[encoded data removed]",
      "text/plain": [
       "<Figure size 720x576 with 1 Axes>"
      ]
     },
     "metadata": {
      "tags": []
     },
     "output_type": "display_data"
    },
    {
     "data": {
      "image/png": "[encoded data removed]",
      "text/plain": [
       "<Figure size 720x576 with 1 Axes>"
      ]
     },
     "metadata": {
      "tags": []
     },
     "output_type": "display_data"
    },
    {
     "name": "stdout",
     "output_type": "stream",
     "text": [
      " score: 0.9378 "
     ]
    }
   ],
   "source": [
    "criterion = nn.CrossEntropyLoss() \n",
    "parameters_to_optimize = resnet.parameters() # all params\n",
    "optimizer = optim.SGD(parameters_to_optimize, lr=LR, momentum=MOMENTUM, weight_decay=WEIGHT_DECAY)\n",
    "scheduler = optim.lr_scheduler.StepLR(optimizer, step_size=STEP_SIZE, gamma=GAMMA)\n",
    "resnet = resnet.to(DEVICE) \n",
    "cudnn.benchmark\n",
    "best_model_resnet=train_and_validate(NUM_EPOCHS,resnet,train_dataloader,val_dataset,val_dataloader,optimizer,criterion,scheduler)\n",
    "accuracy=evaluate(best_model_resnet['model'],test_dataset,test_dataloader,'test')"
   ]
  }
 ],
 "metadata": {
  "accelerator": "GPU",
  "colab": {
   "collapsed_sections": [],
   "name": "s263138_AIML_homework2.ipynb",
   "provenance": [],
   "toc_visible": true
  },
  "kernelspec": {
   "display_name": "Python 3",
   "language": "python",
   "name": "python3"
  },
  "language_info": {
   "codemirror_mode": {
    "name": "ipython",
    "version": 3
   },
   "file_extension": ".py",
   "mimetype": "text/x-python",
   "name": "python",
   "nbconvert_exporter": "python",
   "pygments_lexer": "ipython3",
   "version": "3.7.3"
  }
 },
 "nbformat": 4,
 "nbformat_minor": 1
}
